{
 "cells": [
  {
   "cell_type": "code",
   "execution_count": null,
   "metadata": {
    "ExecuteTime": {
     "end_time": "2018-11-16T11:14:15.631061Z",
     "start_time": "2018-11-16T11:14:04.963766Z"
    },
    "scrolled": true,
    "slideshow": {
     "slide_type": "skip"
    }
   },
   "outputs": [],
   "source": [
    "# preliminary stuff - get demo BIDS dataset\n",
    "!datalad install ///workshops/nipype-2017/ds000114\n",
    "!datalad remove ds000114/derivatives/*\n",
    "!datalad get -r ds000114\n",
    "# also double up import to avoid ugly warnings printing during slideshow\n",
    "from bids.layout import BIDSLayout\n",
    "import os.path\n",
    "import shutil\n",
    "# house keeping\n",
    "if os.path.exists(\"output\"):\n",
    "    shutil.rmtree(\"output\", ignore_errors=True)"
   ]
  },
  {
   "cell_type": "code",
   "execution_count": null,
   "metadata": {
    "ExecuteTime": {
     "end_time": "2018-11-16T11:14:17.356872Z",
     "start_time": "2018-11-16T11:14:15.633486Z"
    },
    "slideshow": {
     "slide_type": "skip"
    }
   },
   "outputs": [],
   "source": [
    "# and demo dicoms for dcm2bids\n",
    "!datalad install -g ///dicoms/dartmouth-phantoms/bids_test5-20170120"
   ]
  },
  {
   "cell_type": "markdown",
   "metadata": {
    "slideshow": {
     "slide_type": "slide"
    }
   },
   "source": [
    "# <center>Brain Imaging Data Structure (BIDS): A standard format for neuroscience data</center>\n",
    "<center>Johan Carlin</center>\n",
    "<p></p>\n",
    "<center><a href>https://github.com/jooh/notebook_bids_OSD2018</a></center>\n",
    "<center><img src=\"MRC_CBU_Cambridge_colour_web_A5.png\"></center>"
   ]
  },
  {
   "cell_type": "markdown",
   "metadata": {
    "cell_style": "split",
    "slideshow": {
     "slide_type": "slide"
    }
   },
   "source": [
    "## In BIDS 1.1.1\n",
    "* MRI - anatomical, functional, diffusion, field maps…\n",
    "* MEG\n",
    "* Physiological recordings\n",
    "* Behavioural data"
   ]
  },
  {
   "cell_type": "markdown",
   "metadata": {
    "cell_style": "split",
    "slideshow": {
     "slide_type": "fragment"
    }
   },
   "source": [
    "## Draft extensions\n",
    "* Model specification\n",
    "* Derivatives - structural, functional, resting state, diffusion…\n",
    "* New modalities - EEG, PET, ASL, Eye tracking, intracranial EEG"
   ]
  },
  {
   "cell_type": "markdown",
   "metadata": {
    "slideshow": {
     "slide_type": "slide"
    }
   },
   "source": [
    "# MRI example"
   ]
  },
  {
   "cell_type": "code",
   "execution_count": null,
   "metadata": {
    "ExecuteTime": {
     "end_time": "2018-11-16T11:14:17.479355Z",
     "start_time": "2018-11-16T11:14:17.358803Z"
    },
    "cell_style": "split",
    "slideshow": {
     "slide_type": "fragment"
    }
   },
   "outputs": [],
   "source": [
    "# basic directory structure\n",
    "!tree -L 2 ds000114"
   ]
  },
  {
   "cell_type": "code",
   "execution_count": null,
   "metadata": {
    "ExecuteTime": {
     "end_time": "2018-11-16T11:14:17.641105Z",
     "start_time": "2018-11-16T11:14:17.482366Z"
    },
    "cell_style": "split",
    "scrolled": true,
    "slideshow": {
     "slide_type": "fragment"
    }
   },
   "outputs": [],
   "source": [
    "# and inside one func folder\n",
    "subdir = \"ds000114/sub-01/func\"\n",
    "!ls -1 {subdir}\n",
    "# and an events file\n",
    "import pandas as pd\n",
    "pd.read_csv(\n",
    "    f\"{subdir}/sub-01_task-linebisection_events.tsv\",delimiter=\"\\t\")"
   ]
  },
  {
   "cell_type": "markdown",
   "metadata": {
    "slideshow": {
     "slide_type": "slide"
    }
   },
   "source": [
    "# Why BIDS?"
   ]
  },
  {
   "cell_type": "markdown",
   "metadata": {
    "slideshow": {
     "slide_type": "fragment"
    }
   },
   "source": [
    "**Users** get easy access to new analysis tools, e.g.\n",
    "`fmriprep ds000114 outdir sub-01 -w workdir`"
   ]
  },
  {
   "cell_type": "code",
   "execution_count": null,
   "metadata": {
    "ExecuteTime": {
     "end_time": "2018-11-16T11:14:17.767825Z",
     "start_time": "2018-11-16T11:14:17.643666Z"
    },
    "slideshow": {
     "slide_type": "fragment"
    }
   },
   "outputs": [],
   "source": [
    "# Developers:\n",
    "from bids.layout import BIDSLayout\n",
    "layout = BIDSLayout(\"ds000114\")\n",
    "subjects = layout.get_subjects()\n",
    "print(subjects)\n",
    "layout.get(subject=subjects[0], type=\"T1w\", return_type='file')"
   ]
  },
  {
   "cell_type": "markdown",
   "metadata": {
    "slideshow": {
     "slide_type": "slide"
    }
   },
   "source": [
    "# Dcm2Bids\n",
    "Fully automated conversion from dicom to BIDS-compliant output data.\n",
    "* Converts dicoms to nifti (using dcm2niix), optionally anonymises structurals\n",
    "* Moves niftis and header sidecars to the correct BIDS-format locations\n",
    "* Adds custom fields to header sidecars as needed for BIDS compliance\n",
    "* Initialises all required BIDS project files with sensible defaults"
   ]
  },
  {
   "cell_type": "markdown",
   "metadata": {
    "slideshow": {
     "slide_type": "slide"
    }
   },
   "source": [
    "# Input dicoms"
   ]
  },
  {
   "cell_type": "code",
   "execution_count": null,
   "metadata": {
    "ExecuteTime": {
     "end_time": "2018-11-16T11:14:17.887816Z",
     "start_time": "2018-11-16T11:14:17.769473Z"
    },
    "slideshow": {
     "slide_type": "fragment"
    }
   },
   "outputs": [],
   "source": [
    "!tree -L 1 bids_test5-20170120/phantom-1/"
   ]
  },
  {
   "cell_type": "markdown",
   "metadata": {
    "ExecuteTime": {
     "end_time": "2018-11-14T08:38:44.234742Z",
     "start_time": "2018-11-14T08:38:44.232550Z"
    },
    "slideshow": {
     "slide_type": "slide"
    }
   },
   "source": [
    "# Minimal configuration for a first test run\n",
    "dcm2bids uses a configuration JSON file to map from dicom series to BIDS output files"
   ]
  },
  {
   "cell_type": "code",
   "execution_count": null,
   "metadata": {
    "ExecuteTime": {
     "end_time": "2018-11-16T11:14:18.026067Z",
     "start_time": "2018-11-16T11:14:17.889885Z"
    },
    "slideshow": {
     "slide_type": "fragment"
    }
   },
   "outputs": [],
   "source": [
    "# you could just type it out but we we will extend the dict below\n",
    "import json\n",
    "config = dict(descriptions=[])\n",
    "def writeconfig(config, filename=\"config.json\"):\n",
    "    with open(filename, \"w\") as fp:\n",
    "        json.dump(config, fp, indent=4)\n",
    "writeconfig(config)\n",
    "!cat config.json"
   ]
  },
  {
   "cell_type": "code",
   "execution_count": null,
   "metadata": {
    "ExecuteTime": {
     "end_time": "2018-11-16T11:14:23.935600Z",
     "start_time": "2018-11-16T11:14:18.027876Z"
    },
    "scrolled": true,
    "slideshow": {
     "slide_type": "slide"
    }
   },
   "outputs": [],
   "source": [
    "# First test run of dcm2bids\n",
    "!dcm2bids -d bids_test5-20170120 -p 01 -c config.json -o output"
   ]
  },
  {
   "cell_type": "code",
   "execution_count": null,
   "metadata": {
    "ExecuteTime": {
     "end_time": "2018-11-16T11:14:24.057234Z",
     "start_time": "2018-11-16T11:14:23.937947Z"
    },
    "scrolled": true,
    "slideshow": {
     "slide_type": "slide"
    }
   },
   "outputs": [],
   "source": [
    "# Unsurprisingly there's not much in the output dir\n",
    "# but NB the tmp_dcm2bids dir!\n",
    "!tree output"
   ]
  },
  {
   "cell_type": "code",
   "execution_count": null,
   "metadata": {
    "ExecuteTime": {
     "end_time": "2018-11-16T11:14:24.176426Z",
     "start_time": "2018-11-16T11:14:24.059080Z"
    },
    "scrolled": true,
    "slideshow": {
     "slide_type": "slide"
    }
   },
   "outputs": [],
   "source": [
    "# so the trick is to extend the config json to unambiguously identify our target\n",
    "# acquisitions. Let's start with the t1. What's in the sidecar?\n",
    "!cat output/tmp_dcm2bids/sub-01/bids_test5-20170120_anat_T1w_acq-MPRAGE_run+_20170120084340_series005.json"
   ]
  },
  {
   "cell_type": "code",
   "execution_count": null,
   "metadata": {
    "ExecuteTime": {
     "end_time": "2018-11-16T11:14:24.295823Z",
     "start_time": "2018-11-16T11:14:24.178004Z"
    },
    "slideshow": {
     "slide_type": "slide"
    }
   },
   "outputs": [],
   "source": [
    "# so our first description might be\n",
    "config[\"descriptions\"] = []\n",
    "config[\"descriptions\"].append({\"dataType\": \"anat\", \n",
    "                               \"suffix\": \"T1w\",\n",
    "                               \"criteria\": {\n",
    "                                   \"in\": {\n",
    "                                       \"SeriesDescription\": \n",
    "                                       \"anat_T1w_acq-MPRAGE_run\"\n",
    "                                   }\n",
    "                                   }\n",
    "                               })\n",
    "# save and print the config again\n",
    "writeconfig(config)\n",
    "!cat config.json"
   ]
  },
  {
   "cell_type": "code",
   "execution_count": null,
   "metadata": {
    "ExecuteTime": {
     "end_time": "2018-11-16T11:14:30.077708Z",
     "start_time": "2018-11-16T11:14:24.297339Z"
    },
    "scrolled": true,
    "slideshow": {
     "slide_type": "slide"
    }
   },
   "outputs": [],
   "source": [
    "# take 2 - do we recognise the t1?\n",
    "!dcm2bids -d bids_test5-20170120 -p 01 -c config.json -o output"
   ]
  },
  {
   "cell_type": "code",
   "execution_count": null,
   "metadata": {
    "ExecuteTime": {
     "end_time": "2018-11-16T11:14:30.198561Z",
     "start_time": "2018-11-16T11:14:30.079648Z"
    },
    "scrolled": false,
    "slideshow": {
     "slide_type": "slide"
    }
   },
   "outputs": [],
   "source": [
    "# now the output dir looks more interesting\n",
    "!tree -I tmp_dcm2bids output"
   ]
  },
  {
   "cell_type": "code",
   "execution_count": null,
   "metadata": {
    "ExecuteTime": {
     "end_time": "2018-11-16T11:14:30.314727Z",
     "start_time": "2018-11-16T11:14:30.200110Z"
    },
    "slideshow": {
     "slide_type": "slide"
    }
   },
   "outputs": [],
   "source": [
    "# some of the required BIDS project root files have been initialised, e.g.\n",
    "!cat output/dataset_description.json"
   ]
  },
  {
   "cell_type": "markdown",
   "metadata": {
    "slideshow": {
     "slide_type": "slide"
    }
   },
   "source": [
    "# Scaling up to a complete dcm2bids conversion"
   ]
  },
  {
   "cell_type": "code",
   "execution_count": null,
   "metadata": {
    "ExecuteTime": {
     "end_time": "2018-11-16T11:14:30.324544Z",
     "start_time": "2018-11-16T11:14:30.316535Z"
    },
    "slideshow": {
     "slide_type": "skip"
    }
   },
   "outputs": [],
   "source": [
    "# house keeping\n",
    "del config[\"descriptions\"][1:]\n",
    "# we need a task for valid BIDS - \"rest\" is handy because it means we are exempt from\n",
    "# needing the events.tsv file (phantoms are at rest by definition, right?)\n",
    "config[\"descriptions\"].append({\"dataType\": \"func\", \n",
    "                               \"suffix\": \"bold\",\n",
    "                               \"criteria\": {\n",
    "                                   \"in\": {\n",
    "                                       \"PulseSequenceDetails\": \"bold\"\n",
    "                                   }\n",
    "                                   },\n",
    "                               \"customHeader\": {\"TaskName\": \"rest\"}\n",
    "                               })\n",
    "# unfortunately no real way to distinguish the fieldmap magnitude images without\n",
    "# matching on the echo times\n",
    "echo1 = 0.00492\n",
    "echo2 = 0.00738\n",
    "config[\"descriptions\"].append({\"dataType\": \"fmap\", \n",
    "                               \"suffix\": \"magnitude1\",\n",
    "                               \"criteria\": {\n",
    "                                   \"in\": {\n",
    "                                       \"PulseSequenceDetails\": \"field_mapping\"\n",
    "                                   },\n",
    "                                   \"equal\": {\n",
    "                                       \"ImageType\":\n",
    "                                       [\"ORIGINAL\", \"PRIMARY\", \"M\", \"ND\", \"NORM\"],\n",
    "                                       \"EchoTime\": echo1\n",
    "                                   }\n",
    "                                   }\n",
    "                               })\n",
    "config[\"descriptions\"].append({\"dataType\": \"fmap\", \n",
    "                               \"suffix\": \"magnitude2\",\n",
    "                               \"criteria\": {\n",
    "                                   \"in\": {\n",
    "                                       \"PulseSequenceDetails\": \"field_mapping\"\n",
    "                                   },\n",
    "                                   \"equal\": {\n",
    "                                       \"ImageType\":\n",
    "                                       [\"ORIGINAL\", \"PRIMARY\", \"M\", \"ND\", \"NORM\"],\n",
    "                                       \"EchoNumber\": 2,\n",
    "                                       \"EchoTime\": echo2\n",
    "                                   }\n",
    "                                   }\n",
    "                               })\n",
    "# need to intervene here to set EchoTime1 and EchoTime2 since it's a phase difference\n",
    "# image (see https://github.com/rordenlab/dcm2niix/issues/139)\n",
    "config[\"descriptions\"].append({\"dataType\": \"fmap\", \n",
    "                               \"suffix\": \"phasediff\",\n",
    "                               \"criteria\": {\n",
    "                                   \"in\": {\n",
    "                                       \"PulseSequenceDetails\": \"field_mapping\"\n",
    "                                   },\n",
    "                                   \"equal\": {\n",
    "                                       \"ImageType\": [\"ORIGINAL\", \"PRIMARY\", \"P\", \"ND\"]\n",
    "                                   }\n",
    "                                   },\n",
    "                               \"customHeader\": {\n",
    "                                   \"EchoTime1\": echo1,\n",
    "                                   \"EchoTime2\": echo2\n",
    "                               }\n",
    "                               })\n",
    "writeconfig(config, filename=\"config_complete.json\")"
   ]
  },
  {
   "cell_type": "code",
   "execution_count": null,
   "metadata": {
    "ExecuteTime": {
     "end_time": "2018-11-16T11:14:30.443155Z",
     "start_time": "2018-11-16T11:14:30.325832Z"
    },
    "slideshow": {
     "slide_type": "fragment"
    }
   },
   "outputs": [],
   "source": [
    "# here's one I made earlier...\n",
    "!cat config_complete.json"
   ]
  },
  {
   "cell_type": "code",
   "execution_count": null,
   "metadata": {
    "ExecuteTime": {
     "end_time": "2018-11-16T11:14:36.245016Z",
     "start_time": "2018-11-16T11:14:30.445284Z"
    },
    "scrolled": true,
    "slideshow": {
     "slide_type": "slide"
    }
   },
   "outputs": [],
   "source": [
    "# take 3 - do we now recognise all the series we want to convert?\n",
    "shutil.rmtree(\"output\", ignore_errors=True)\n",
    "!dcm2bids -d bids_test5-20170120 -p 01 -c config_complete.json -o output"
   ]
  },
  {
   "cell_type": "code",
   "execution_count": null,
   "metadata": {
    "ExecuteTime": {
     "end_time": "2018-11-16T11:14:36.368061Z",
     "start_time": "2018-11-16T11:14:36.249168Z"
    },
    "cell_style": "center",
    "slideshow": {
     "slide_type": "slide"
    }
   },
   "outputs": [],
   "source": [
    "# the output directory looks fairly complete\n",
    "!tree -I tmp_dcm2bids output"
   ]
  },
  {
   "cell_type": "markdown",
   "metadata": {
    "slideshow": {
     "slide_type": "slide"
    }
   },
   "source": [
    "# Checking conversions with bids-validator\n",
    "Also available as a handy web app"
   ]
  },
  {
   "cell_type": "code",
   "execution_count": null,
   "metadata": {
    "ExecuteTime": {
     "end_time": "2018-11-16T11:14:37.043540Z",
     "start_time": "2018-11-16T11:14:36.370674Z"
    },
    "slideshow": {
     "slide_type": "fragment"
    }
   },
   "outputs": [],
   "source": [
    "# NB you would still need to add some more info manually in e.g. study_description.json\n",
    "!bids-validator output"
   ]
  },
  {
   "cell_type": "markdown",
   "metadata": {
    "slideshow": {
     "slide_type": "slide"
    }
   },
   "source": [
    "# Resources\n",
    "\n",
    "* [The BIDS starter kit](https://github.com/bids-standard/bids-starter-kit) - wiki with links to various resources\n",
    "* [The official BIDS website](http://bids.neuroimaging.io/) - the official BIDS specification is surprisingly readable\n",
    "* [Michael Notter's Nipype tutorial](https://github.com/miykael/nipype_tutorial) - great interactive tutorials on working with BIDS data in Python\n",
    "* [BIDS-Validator web app](https://bids-standard.github.io/bids-validator/) - convenient way to check BIDS conversions\n",
    "* [dcm2bids (jooh fork)](https://github.com/jooh/Dcm2Bids) - run the conversion code presented here"
   ]
  },
  {
   "cell_type": "markdown",
   "metadata": {
    "slideshow": {
     "slide_type": "slide"
    }
   },
   "source": [
    " "
   ]
  }
 ],
 "metadata": {
  "celltoolbar": "Slideshow",
  "kernelspec": {
   "display_name": "Python 3",
   "language": "python",
   "name": "python3"
  },
  "language_info": {
   "codemirror_mode": {
    "name": "ipython",
    "version": 3
   },
   "file_extension": ".py",
   "mimetype": "text/x-python",
   "name": "python",
   "nbconvert_exporter": "python",
   "pygments_lexer": "ipython3",
   "version": "3.6.5"
  },
  "rise": {
   "controls": false,
   "scroll": true
  },
  "varInspector": {
   "cols": {
    "lenName": 16,
    "lenType": 16,
    "lenVar": 40
   },
   "kernels_config": {
    "python": {
     "delete_cmd_postfix": "",
     "delete_cmd_prefix": "del ",
     "library": "var_list.py",
     "varRefreshCmd": "print(var_dic_list())"
    },
    "r": {
     "delete_cmd_postfix": ") ",
     "delete_cmd_prefix": "rm(",
     "library": "var_list.r",
     "varRefreshCmd": "cat(var_dic_list()) "
    }
   },
   "types_to_exclude": [
    "module",
    "function",
    "builtin_function_or_method",
    "instance",
    "_Feature"
   ],
   "window_display": false
  }
 },
 "nbformat": 4,
 "nbformat_minor": 2
}
