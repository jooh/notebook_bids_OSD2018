{
 "cells": [
  {
   "cell_type": "code",
   "execution_count": null,
   "metadata": {
    "ExecuteTime": {
     "end_time": "2018-11-13T15:24:36.332650Z",
     "start_time": "2018-11-13T15:24:33.423811Z"
    },
    "scrolled": true,
    "slideshow": {
     "slide_type": "skip"
    }
   },
   "outputs": [],
   "source": [
    "# preliminary stuff - get demo BIDS dataset\n",
    "!datalad install ///workshops/nipype-2017/ds000114\n",
    "!datalad remove ds000114/derivatives/*\n",
    "!datalad get -r ds000114\n",
    "# also double up import to avoid ugly warnings printing during slideshow\n",
    "from bids.layout import BIDSLayout\n",
    "import os.path\n",
    "import shutil\n",
    "# house keeping\n",
    "if os.path.exists(\"output\"):\n",
    "    shutil.rmtree(\"output\", ignore_errors=True)"
   ]
  },
  {
   "cell_type": "code",
   "execution_count": null,
   "metadata": {
    "ExecuteTime": {
     "end_time": "2018-11-13T15:24:37.866546Z",
     "start_time": "2018-11-13T15:24:36.335382Z"
    },
    "slideshow": {
     "slide_type": "skip"
    }
   },
   "outputs": [],
   "source": [
    "# and demo dicoms for dcm2bids\n",
    "!datalad install -g ///dicoms/dartmouth-phantoms/bids_test5-20170120"
   ]
  },
  {
   "cell_type": "markdown",
   "metadata": {
    "slideshow": {
     "slide_type": "slide"
    }
   },
   "source": [
    "# <center>Brain Imaging Data Structure (BIDS): A standard format for neuroscience data</center>\n",
    "<p><center>Johan Carlin</center></p>\n",
    "<p> </p>\n",
    "<img src=\"MRC_CBU_Cambridge_colour_web_A5.png\">"
   ]
  },
  {
   "cell_type": "markdown",
   "metadata": {
    "cell_style": "split",
    "slideshow": {
     "slide_type": "slide"
    }
   },
   "source": [
    "## In BIDS 1.1.1\n",
    "* MRI - anatomical, functional, diffusion, field maps…\n",
    "* MEG\n",
    "* Physiological recordings\n",
    "* Behavioural data"
   ]
  },
  {
   "cell_type": "markdown",
   "metadata": {
    "cell_style": "split",
    "slideshow": {
     "slide_type": "fragment"
    }
   },
   "source": [
    "## Draft extensions\n",
    "* Model specification\n",
    "* Derivatives - structural, functional, resting state, diffusion…\n",
    "* New modalities - EEG, PET, ASL, Eye tracking, intracranial EEG"
   ]
  },
  {
   "cell_type": "markdown",
   "metadata": {
    "slideshow": {
     "slide_type": "slide"
    }
   },
   "source": [
    "# MRI example"
   ]
  },
  {
   "cell_type": "code",
   "execution_count": 20,
   "metadata": {
    "ExecuteTime": {
     "end_time": "2018-11-13T15:34:51.085957Z",
     "start_time": "2018-11-13T15:34:50.936660Z"
    },
    "cell_style": "split",
    "slideshow": {
     "slide_type": "fragment"
    }
   },
   "outputs": [
    {
     "name": "stdout",
     "output_type": "stream",
     "text": [
      "\u001b[01;34mds000114\u001b[00m\r\n",
      "├── dataset_description.json\r\n",
      "├── dwi.bval\r\n",
      "├── dwi.bvec\r\n",
      "├── \u001b[01;34msub-01\u001b[00m\r\n",
      "│   ├── \u001b[01;34manat\u001b[00m\r\n",
      "│   ├── \u001b[01;34mdwi\u001b[00m\r\n",
      "│   └── \u001b[01;34mfunc\u001b[00m\r\n",
      "├── \u001b[01;34msub-02\u001b[00m\r\n",
      "│   ├── \u001b[01;34manat\u001b[00m\r\n",
      "│   ├── \u001b[01;34mdwi\u001b[00m\r\n",
      "│   └── \u001b[01;34mfunc\u001b[00m\r\n",
      "├── task-fingerfootlips_bold.json\r\n",
      "├── task-fingerfootlips_events.tsv\r\n",
      "└── task-linebisection_bold.json\r\n",
      "\r\n",
      "8 directories, 6 files\r\n"
     ]
    }
   ],
   "source": [
    "# basic directory structure\n",
    "!tree -L 2 ds000114"
   ]
  },
  {
   "cell_type": "code",
   "execution_count": 22,
   "metadata": {
    "ExecuteTime": {
     "end_time": "2018-11-13T15:35:53.853792Z",
     "start_time": "2018-11-13T15:35:53.830701Z"
    },
    "cell_style": "split",
    "scrolled": true,
    "slideshow": {
     "slide_type": "fragment"
    }
   },
   "outputs": [
    {
     "data": {
      "text/html": [
       "<div>\n",
       "<style scoped>\n",
       "    .dataframe tbody tr th:only-of-type {\n",
       "        vertical-align: middle;\n",
       "    }\n",
       "\n",
       "    .dataframe tbody tr th {\n",
       "        vertical-align: top;\n",
       "    }\n",
       "\n",
       "    .dataframe thead th {\n",
       "        text-align: right;\n",
       "    }\n",
       "</style>\n",
       "<table border=\"1\" class=\"dataframe\">\n",
       "  <thead>\n",
       "    <tr style=\"text-align: right;\">\n",
       "      <th></th>\n",
       "      <th>onset</th>\n",
       "      <th>duration</th>\n",
       "      <th>weight</th>\n",
       "      <th>trial_type</th>\n",
       "    </tr>\n",
       "  </thead>\n",
       "  <tbody>\n",
       "    <tr>\n",
       "      <th>0</th>\n",
       "      <td>24.3065</td>\n",
       "      <td>1</td>\n",
       "      <td>1.0</td>\n",
       "      <td>Incorrect_Task</td>\n",
       "    </tr>\n",
       "    <tr>\n",
       "      <th>1</th>\n",
       "      <td>25.9465</td>\n",
       "      <td>1</td>\n",
       "      <td>1.0</td>\n",
       "      <td>Correct_Task</td>\n",
       "    </tr>\n",
       "    <tr>\n",
       "      <th>2</th>\n",
       "      <td>27.5865</td>\n",
       "      <td>1</td>\n",
       "      <td>1.0</td>\n",
       "      <td>Correct_Task</td>\n",
       "    </tr>\n",
       "    <tr>\n",
       "      <th>3</th>\n",
       "      <td>29.2265</td>\n",
       "      <td>1</td>\n",
       "      <td>1.0</td>\n",
       "      <td>No_Response_Task</td>\n",
       "    </tr>\n",
       "    <tr>\n",
       "      <th>4</th>\n",
       "      <td>30.8664</td>\n",
       "      <td>1</td>\n",
       "      <td>1.0</td>\n",
       "      <td>Incorrect_Task</td>\n",
       "    </tr>\n",
       "    <tr>\n",
       "      <th>5</th>\n",
       "      <td>32.5064</td>\n",
       "      <td>1</td>\n",
       "      <td>1.0</td>\n",
       "      <td>No_Response_Task</td>\n",
       "    </tr>\n",
       "    <tr>\n",
       "      <th>6</th>\n",
       "      <td>34.1464</td>\n",
       "      <td>1</td>\n",
       "      <td>1.0</td>\n",
       "      <td>Correct_Task</td>\n",
       "    </tr>\n",
       "    <tr>\n",
       "      <th>7</th>\n",
       "      <td>35.7864</td>\n",
       "      <td>1</td>\n",
       "      <td>1.0</td>\n",
       "      <td>Incorrect_Task</td>\n",
       "    </tr>\n",
       "    <tr>\n",
       "      <th>8</th>\n",
       "      <td>37.4264</td>\n",
       "      <td>1</td>\n",
       "      <td>1.0</td>\n",
       "      <td>Correct_Task</td>\n",
       "    </tr>\n",
       "    <tr>\n",
       "      <th>9</th>\n",
       "      <td>39.0664</td>\n",
       "      <td>1</td>\n",
       "      <td>1.0</td>\n",
       "      <td>Incorrect_Task</td>\n",
       "    </tr>\n",
       "    <tr>\n",
       "      <th>10</th>\n",
       "      <td>56.9730</td>\n",
       "      <td>1</td>\n",
       "      <td>1.0</td>\n",
       "      <td>Response_Control</td>\n",
       "    </tr>\n",
       "    <tr>\n",
       "      <th>11</th>\n",
       "      <td>58.6130</td>\n",
       "      <td>1</td>\n",
       "      <td>1.0</td>\n",
       "      <td>No_Response_Control</td>\n",
       "    </tr>\n",
       "    <tr>\n",
       "      <th>12</th>\n",
       "      <td>60.2530</td>\n",
       "      <td>1</td>\n",
       "      <td>1.0</td>\n",
       "      <td>Response_Control</td>\n",
       "    </tr>\n",
       "    <tr>\n",
       "      <th>13</th>\n",
       "      <td>61.8930</td>\n",
       "      <td>1</td>\n",
       "      <td>1.0</td>\n",
       "      <td>No_Response_Control</td>\n",
       "    </tr>\n",
       "    <tr>\n",
       "      <th>14</th>\n",
       "      <td>63.5330</td>\n",
       "      <td>1</td>\n",
       "      <td>1.0</td>\n",
       "      <td>Response_Control</td>\n",
       "    </tr>\n",
       "    <tr>\n",
       "      <th>15</th>\n",
       "      <td>65.1730</td>\n",
       "      <td>1</td>\n",
       "      <td>1.0</td>\n",
       "      <td>Response_Control</td>\n",
       "    </tr>\n",
       "    <tr>\n",
       "      <th>16</th>\n",
       "      <td>66.8129</td>\n",
       "      <td>1</td>\n",
       "      <td>1.0</td>\n",
       "      <td>Response_Control</td>\n",
       "    </tr>\n",
       "    <tr>\n",
       "      <th>17</th>\n",
       "      <td>68.4529</td>\n",
       "      <td>1</td>\n",
       "      <td>1.0</td>\n",
       "      <td>Response_Control</td>\n",
       "    </tr>\n",
       "    <tr>\n",
       "      <th>18</th>\n",
       "      <td>70.0929</td>\n",
       "      <td>1</td>\n",
       "      <td>1.0</td>\n",
       "      <td>Response_Control</td>\n",
       "    </tr>\n",
       "    <tr>\n",
       "      <th>19</th>\n",
       "      <td>71.7329</td>\n",
       "      <td>1</td>\n",
       "      <td>1.0</td>\n",
       "      <td>No_Response_Control</td>\n",
       "    </tr>\n",
       "    <tr>\n",
       "      <th>20</th>\n",
       "      <td>89.6395</td>\n",
       "      <td>1</td>\n",
       "      <td>1.0</td>\n",
       "      <td>Correct_Task</td>\n",
       "    </tr>\n",
       "    <tr>\n",
       "      <th>21</th>\n",
       "      <td>91.2795</td>\n",
       "      <td>1</td>\n",
       "      <td>1.0</td>\n",
       "      <td>Correct_Task</td>\n",
       "    </tr>\n",
       "    <tr>\n",
       "      <th>22</th>\n",
       "      <td>92.9195</td>\n",
       "      <td>1</td>\n",
       "      <td>1.0</td>\n",
       "      <td>Incorrect_Task</td>\n",
       "    </tr>\n",
       "    <tr>\n",
       "      <th>23</th>\n",
       "      <td>94.5595</td>\n",
       "      <td>1</td>\n",
       "      <td>1.0</td>\n",
       "      <td>Incorrect_Task</td>\n",
       "    </tr>\n",
       "    <tr>\n",
       "      <th>24</th>\n",
       "      <td>96.1995</td>\n",
       "      <td>1</td>\n",
       "      <td>1.0</td>\n",
       "      <td>Correct_Task</td>\n",
       "    </tr>\n",
       "    <tr>\n",
       "      <th>25</th>\n",
       "      <td>97.8395</td>\n",
       "      <td>1</td>\n",
       "      <td>1.0</td>\n",
       "      <td>No_Response_Task</td>\n",
       "    </tr>\n",
       "    <tr>\n",
       "      <th>26</th>\n",
       "      <td>99.4795</td>\n",
       "      <td>1</td>\n",
       "      <td>1.0</td>\n",
       "      <td>Incorrect_Task</td>\n",
       "    </tr>\n",
       "    <tr>\n",
       "      <th>27</th>\n",
       "      <td>101.1194</td>\n",
       "      <td>1</td>\n",
       "      <td>1.0</td>\n",
       "      <td>Correct_Task</td>\n",
       "    </tr>\n",
       "    <tr>\n",
       "      <th>28</th>\n",
       "      <td>102.7594</td>\n",
       "      <td>1</td>\n",
       "      <td>1.0</td>\n",
       "      <td>Correct_Task</td>\n",
       "    </tr>\n",
       "    <tr>\n",
       "      <th>29</th>\n",
       "      <td>104.3994</td>\n",
       "      <td>1</td>\n",
       "      <td>1.0</td>\n",
       "      <td>Correct_Task</td>\n",
       "    </tr>\n",
       "    <tr>\n",
       "      <th>...</th>\n",
       "      <td>...</td>\n",
       "      <td>...</td>\n",
       "      <td>...</td>\n",
       "      <td>...</td>\n",
       "    </tr>\n",
       "    <tr>\n",
       "      <th>130</th>\n",
       "      <td>448.9711</td>\n",
       "      <td>1</td>\n",
       "      <td>1.0</td>\n",
       "      <td>Response_Control</td>\n",
       "    </tr>\n",
       "    <tr>\n",
       "      <th>131</th>\n",
       "      <td>450.6111</td>\n",
       "      <td>1</td>\n",
       "      <td>1.0</td>\n",
       "      <td>No_Response_Control</td>\n",
       "    </tr>\n",
       "    <tr>\n",
       "      <th>132</th>\n",
       "      <td>452.2511</td>\n",
       "      <td>1</td>\n",
       "      <td>1.0</td>\n",
       "      <td>Response_Control</td>\n",
       "    </tr>\n",
       "    <tr>\n",
       "      <th>133</th>\n",
       "      <td>453.8911</td>\n",
       "      <td>1</td>\n",
       "      <td>1.0</td>\n",
       "      <td>No_Response_Control</td>\n",
       "    </tr>\n",
       "    <tr>\n",
       "      <th>134</th>\n",
       "      <td>455.5311</td>\n",
       "      <td>1</td>\n",
       "      <td>1.0</td>\n",
       "      <td>Response_Control</td>\n",
       "    </tr>\n",
       "    <tr>\n",
       "      <th>135</th>\n",
       "      <td>457.1711</td>\n",
       "      <td>1</td>\n",
       "      <td>1.0</td>\n",
       "      <td>Response_Control</td>\n",
       "    </tr>\n",
       "    <tr>\n",
       "      <th>136</th>\n",
       "      <td>458.8111</td>\n",
       "      <td>1</td>\n",
       "      <td>1.0</td>\n",
       "      <td>Response_Control</td>\n",
       "    </tr>\n",
       "    <tr>\n",
       "      <th>137</th>\n",
       "      <td>460.4511</td>\n",
       "      <td>1</td>\n",
       "      <td>1.0</td>\n",
       "      <td>Response_Control</td>\n",
       "    </tr>\n",
       "    <tr>\n",
       "      <th>138</th>\n",
       "      <td>462.0910</td>\n",
       "      <td>1</td>\n",
       "      <td>1.0</td>\n",
       "      <td>Response_Control</td>\n",
       "    </tr>\n",
       "    <tr>\n",
       "      <th>139</th>\n",
       "      <td>463.7310</td>\n",
       "      <td>1</td>\n",
       "      <td>1.0</td>\n",
       "      <td>No_Response_Control</td>\n",
       "    </tr>\n",
       "    <tr>\n",
       "      <th>140</th>\n",
       "      <td>481.6376</td>\n",
       "      <td>1</td>\n",
       "      <td>1.0</td>\n",
       "      <td>Incorrect_Task</td>\n",
       "    </tr>\n",
       "    <tr>\n",
       "      <th>141</th>\n",
       "      <td>483.2776</td>\n",
       "      <td>1</td>\n",
       "      <td>1.0</td>\n",
       "      <td>Correct_Task</td>\n",
       "    </tr>\n",
       "    <tr>\n",
       "      <th>142</th>\n",
       "      <td>484.9176</td>\n",
       "      <td>1</td>\n",
       "      <td>1.0</td>\n",
       "      <td>Correct_Task</td>\n",
       "    </tr>\n",
       "    <tr>\n",
       "      <th>143</th>\n",
       "      <td>486.5576</td>\n",
       "      <td>1</td>\n",
       "      <td>1.0</td>\n",
       "      <td>No_Response_Task</td>\n",
       "    </tr>\n",
       "    <tr>\n",
       "      <th>144</th>\n",
       "      <td>488.1976</td>\n",
       "      <td>1</td>\n",
       "      <td>1.0</td>\n",
       "      <td>Incorrect_Task</td>\n",
       "    </tr>\n",
       "    <tr>\n",
       "      <th>145</th>\n",
       "      <td>489.8376</td>\n",
       "      <td>1</td>\n",
       "      <td>1.0</td>\n",
       "      <td>No_Response_Task</td>\n",
       "    </tr>\n",
       "    <tr>\n",
       "      <th>146</th>\n",
       "      <td>491.4776</td>\n",
       "      <td>1</td>\n",
       "      <td>1.0</td>\n",
       "      <td>Correct_Task</td>\n",
       "    </tr>\n",
       "    <tr>\n",
       "      <th>147</th>\n",
       "      <td>493.1176</td>\n",
       "      <td>1</td>\n",
       "      <td>1.0</td>\n",
       "      <td>Incorrect_Task</td>\n",
       "    </tr>\n",
       "    <tr>\n",
       "      <th>148</th>\n",
       "      <td>494.7576</td>\n",
       "      <td>1</td>\n",
       "      <td>1.0</td>\n",
       "      <td>Correct_Task</td>\n",
       "    </tr>\n",
       "    <tr>\n",
       "      <th>149</th>\n",
       "      <td>496.3976</td>\n",
       "      <td>1</td>\n",
       "      <td>1.0</td>\n",
       "      <td>Correct_Task</td>\n",
       "    </tr>\n",
       "    <tr>\n",
       "      <th>150</th>\n",
       "      <td>514.3041</td>\n",
       "      <td>1</td>\n",
       "      <td>1.0</td>\n",
       "      <td>Response_Control</td>\n",
       "    </tr>\n",
       "    <tr>\n",
       "      <th>151</th>\n",
       "      <td>515.9441</td>\n",
       "      <td>1</td>\n",
       "      <td>1.0</td>\n",
       "      <td>No_Response_Control</td>\n",
       "    </tr>\n",
       "    <tr>\n",
       "      <th>152</th>\n",
       "      <td>517.5841</td>\n",
       "      <td>1</td>\n",
       "      <td>1.0</td>\n",
       "      <td>Response_Control</td>\n",
       "    </tr>\n",
       "    <tr>\n",
       "      <th>153</th>\n",
       "      <td>519.2241</td>\n",
       "      <td>1</td>\n",
       "      <td>1.0</td>\n",
       "      <td>Response_Control</td>\n",
       "    </tr>\n",
       "    <tr>\n",
       "      <th>154</th>\n",
       "      <td>520.8641</td>\n",
       "      <td>1</td>\n",
       "      <td>1.0</td>\n",
       "      <td>Response_Control</td>\n",
       "    </tr>\n",
       "    <tr>\n",
       "      <th>155</th>\n",
       "      <td>522.5041</td>\n",
       "      <td>1</td>\n",
       "      <td>1.0</td>\n",
       "      <td>No_Response_Control</td>\n",
       "    </tr>\n",
       "    <tr>\n",
       "      <th>156</th>\n",
       "      <td>524.1441</td>\n",
       "      <td>1</td>\n",
       "      <td>1.0</td>\n",
       "      <td>Response_Control</td>\n",
       "    </tr>\n",
       "    <tr>\n",
       "      <th>157</th>\n",
       "      <td>525.7841</td>\n",
       "      <td>1</td>\n",
       "      <td>1.0</td>\n",
       "      <td>No_Response_Control</td>\n",
       "    </tr>\n",
       "    <tr>\n",
       "      <th>158</th>\n",
       "      <td>527.4241</td>\n",
       "      <td>1</td>\n",
       "      <td>1.0</td>\n",
       "      <td>Response_Control</td>\n",
       "    </tr>\n",
       "    <tr>\n",
       "      <th>159</th>\n",
       "      <td>529.0641</td>\n",
       "      <td>1</td>\n",
       "      <td>1.0</td>\n",
       "      <td>No_Response_Control</td>\n",
       "    </tr>\n",
       "  </tbody>\n",
       "</table>\n",
       "<p>160 rows × 4 columns</p>\n",
       "</div>"
      ],
      "text/plain": [
       "        onset  duration  weight           trial_type\n",
       "0     24.3065         1     1.0       Incorrect_Task\n",
       "1     25.9465         1     1.0         Correct_Task\n",
       "2     27.5865         1     1.0         Correct_Task\n",
       "3     29.2265         1     1.0     No_Response_Task\n",
       "4     30.8664         1     1.0       Incorrect_Task\n",
       "5     32.5064         1     1.0     No_Response_Task\n",
       "6     34.1464         1     1.0         Correct_Task\n",
       "7     35.7864         1     1.0       Incorrect_Task\n",
       "8     37.4264         1     1.0         Correct_Task\n",
       "9     39.0664         1     1.0       Incorrect_Task\n",
       "10    56.9730         1     1.0     Response_Control\n",
       "11    58.6130         1     1.0  No_Response_Control\n",
       "12    60.2530         1     1.0     Response_Control\n",
       "13    61.8930         1     1.0  No_Response_Control\n",
       "14    63.5330         1     1.0     Response_Control\n",
       "15    65.1730         1     1.0     Response_Control\n",
       "16    66.8129         1     1.0     Response_Control\n",
       "17    68.4529         1     1.0     Response_Control\n",
       "18    70.0929         1     1.0     Response_Control\n",
       "19    71.7329         1     1.0  No_Response_Control\n",
       "20    89.6395         1     1.0         Correct_Task\n",
       "21    91.2795         1     1.0         Correct_Task\n",
       "22    92.9195         1     1.0       Incorrect_Task\n",
       "23    94.5595         1     1.0       Incorrect_Task\n",
       "24    96.1995         1     1.0         Correct_Task\n",
       "25    97.8395         1     1.0     No_Response_Task\n",
       "26    99.4795         1     1.0       Incorrect_Task\n",
       "27   101.1194         1     1.0         Correct_Task\n",
       "28   102.7594         1     1.0         Correct_Task\n",
       "29   104.3994         1     1.0         Correct_Task\n",
       "..        ...       ...     ...                  ...\n",
       "130  448.9711         1     1.0     Response_Control\n",
       "131  450.6111         1     1.0  No_Response_Control\n",
       "132  452.2511         1     1.0     Response_Control\n",
       "133  453.8911         1     1.0  No_Response_Control\n",
       "134  455.5311         1     1.0     Response_Control\n",
       "135  457.1711         1     1.0     Response_Control\n",
       "136  458.8111         1     1.0     Response_Control\n",
       "137  460.4511         1     1.0     Response_Control\n",
       "138  462.0910         1     1.0     Response_Control\n",
       "139  463.7310         1     1.0  No_Response_Control\n",
       "140  481.6376         1     1.0       Incorrect_Task\n",
       "141  483.2776         1     1.0         Correct_Task\n",
       "142  484.9176         1     1.0         Correct_Task\n",
       "143  486.5576         1     1.0     No_Response_Task\n",
       "144  488.1976         1     1.0       Incorrect_Task\n",
       "145  489.8376         1     1.0     No_Response_Task\n",
       "146  491.4776         1     1.0         Correct_Task\n",
       "147  493.1176         1     1.0       Incorrect_Task\n",
       "148  494.7576         1     1.0         Correct_Task\n",
       "149  496.3976         1     1.0         Correct_Task\n",
       "150  514.3041         1     1.0     Response_Control\n",
       "151  515.9441         1     1.0  No_Response_Control\n",
       "152  517.5841         1     1.0     Response_Control\n",
       "153  519.2241         1     1.0     Response_Control\n",
       "154  520.8641         1     1.0     Response_Control\n",
       "155  522.5041         1     1.0  No_Response_Control\n",
       "156  524.1441         1     1.0     Response_Control\n",
       "157  525.7841         1     1.0  No_Response_Control\n",
       "158  527.4241         1     1.0     Response_Control\n",
       "159  529.0641         1     1.0  No_Response_Control\n",
       "\n",
       "[160 rows x 4 columns]"
      ]
     },
     "execution_count": 22,
     "metadata": {},
     "output_type": "execute_result"
    }
   ],
   "source": [
    "# and inside one func folder\n",
    "subdir = \"ds000114/sub-01/func\"\n",
    "#!ls -1 {subdir}\n",
    "# and an events file\n",
    "import pandas as pd\n",
    "pd.read_csv(\n",
    "    f\"{subdir}/sub-01_task-linebisection_events.tsv\",\n",
    "    delimiter=\"\\t\")"
   ]
  },
  {
   "cell_type": "markdown",
   "metadata": {
    "slideshow": {
     "slide_type": "slide"
    }
   },
   "source": [
    "# Why BIDS?"
   ]
  },
  {
   "cell_type": "markdown",
   "metadata": {
    "slideshow": {
     "slide_type": "fragment"
    }
   },
   "source": [
    "**Users** get easy access to new analysis tools, e.g.\n",
    "`fmriprep ds000114 outdir sub-01 -w workdir`"
   ]
  },
  {
   "cell_type": "code",
   "execution_count": 24,
   "metadata": {
    "ExecuteTime": {
     "end_time": "2018-11-13T15:39:45.305637Z",
     "start_time": "2018-11-13T15:39:45.277006Z"
    },
    "slideshow": {
     "slide_type": "fragment"
    }
   },
   "outputs": [
    {
     "name": "stdout",
     "output_type": "stream",
     "text": [
      "['01', '02']\n"
     ]
    },
    {
     "data": {
      "text/plain": [
       "['/imaging/jc01/bidstalk_2018/ds000114/sub-01/anat/sub-01_T1w.nii.gz']"
      ]
     },
     "execution_count": 24,
     "metadata": {},
     "output_type": "execute_result"
    }
   ],
   "source": [
    "# Developers:\n",
    "from bids.layout import BIDSLayout\n",
    "layout = BIDSLayout(\"ds000114\")\n",
    "subjects = layout.get_subjects()\n",
    "print(subjects)\n",
    "layout.get(subject=subjects[0], type=\"T1w\", return_type='file')"
   ]
  },
  {
   "cell_type": "markdown",
   "metadata": {
    "slideshow": {
     "slide_type": "slide"
    }
   },
   "source": [
    "# Dcm2Bids demo"
   ]
  },
  {
   "cell_type": "code",
   "execution_count": 25,
   "metadata": {
    "ExecuteTime": {
     "end_time": "2018-11-13T15:42:06.630274Z",
     "start_time": "2018-11-13T15:42:06.500574Z"
    },
    "slideshow": {
     "slide_type": "fragment"
    }
   },
   "outputs": [
    {
     "name": "stdout",
     "output_type": "stream",
     "text": [
      "\u001b[01;34mbids_test5-20170120/phantom-1/\u001b[00m\r\n",
      "├── \u001b[01;34m001-anat-scout_run+\u001b[00m\r\n",
      "├── \u001b[01;34m002-anat-scout_run+_MPR_sag\u001b[00m\r\n",
      "├── \u001b[01;34m003-anat-scout_run+_MPR_cor\u001b[00m\r\n",
      "├── \u001b[01;34m004-anat-scout_run+_MPR_tra\u001b[00m\r\n",
      "├── \u001b[01;34m005-anat_T1w_acq-MPRAGE_run+\u001b[00m\r\n",
      "├── \u001b[01;34m006-fmap_acq-2.4mm\u001b[00m\r\n",
      "├── \u001b[01;34m007-fmap_acq-2.4mm\u001b[00m\r\n",
      "└── \u001b[01;34m009-func_run+_task-rest_acq-2.4mm64sl1000tr32te600dyn\u001b[00m\r\n",
      "\r\n",
      "8 directories, 0 files\r\n"
     ]
    }
   ],
   "source": [
    "# input dicoms\n",
    "!tree -L 1 bids_test5-20170120/phantom-1/"
   ]
  },
  {
   "cell_type": "markdown",
   "metadata": {
    "slideshow": {
     "slide_type": "slide"
    }
   },
   "source": [
    "# Initial configuration"
   ]
  },
  {
   "cell_type": "code",
   "execution_count": 26,
   "metadata": {
    "ExecuteTime": {
     "end_time": "2018-11-13T15:42:59.216806Z",
     "start_time": "2018-11-13T15:42:59.092306Z"
    },
    "slideshow": {
     "slide_type": "fragment"
    }
   },
   "outputs": [
    {
     "name": "stdout",
     "output_type": "stream",
     "text": [
      "{\r\n",
      "    \"descriptions\": []\r\n",
      "}"
     ]
    }
   ],
   "source": [
    "# let's create a minimal config json\n",
    "# you could just type it out but we are PYTHONISTAS\n",
    "# (and we will extend the dict below)\n",
    "import json\n",
    "config = dict(descriptions=[])\n",
    "def writeconfig(config, filename=\"config.json\"):\n",
    "    with open(filename, \"w\") as fp:\n",
    "        json.dump(config, fp, indent=4)\n",
    "writeconfig(config)\n",
    "!cat config.json"
   ]
  },
  {
   "cell_type": "code",
   "execution_count": 27,
   "metadata": {
    "ExecuteTime": {
     "end_time": "2018-11-13T15:43:40.137330Z",
     "start_time": "2018-11-13T15:43:33.667686Z"
    },
    "scrolled": true,
    "slideshow": {
     "slide_type": "slide"
    }
   },
   "outputs": [
    {
     "name": "stdout",
     "output_type": "stream",
     "text": [
      "Compression will be faster with 'pigz' installed\n",
      "Chris Rorden's dcm2niiX version v1.0.20171215 GCC4.4.7 (64-bit Linux)\n",
      "Found 538 DICOM image(s)\n",
      "slices not stacked: orientation varies (localizer?) [0.989703 0.143138 0.000279066 -0.0660265 0.458257 -0.886364] != [0.990558 0.137086 0.00122238 -0.072736 0.533095 -0.842923]\n",
      "Convert 1 DICOM as output/tmp_dcm2bids/sub-01/bids_test5-20170120_anat-scout_run+_20170120084340_series003 (162x162x1x1)\n",
      "Warning: Check that 2D images are not mirrored.\n",
      "slices not stacked: orientation varies (localizer?) [0.990558 0.137086 0.00122238 -0.072736 0.533095 -0.842923] != [0.988112 0.153427 0.00970667 -0.0744576 0.532856 -0.842924]\n",
      "Convert 1 DICOM as output/tmp_dcm2bids/sub-01/bids_test5-20170120_anat-scout_run+_20170120084340_series003a (162x162x1x1)\n",
      "Warning: Check that 2D images are not mirrored.\n",
      "Convert 1 DICOM as output/tmp_dcm2bids/sub-01/bids_test5-20170120_anat-scout_run+_20170120084340_series003b (162x162x1x1)\n",
      "Warning: Check that 2D images are not mirrored.\n",
      "slices not stacked: echo varies (TE 4.92, 7.38; echo 1, 2). Use 'merge 2D slices' option to force stacking\n",
      "Convert 64 DICOM as output/tmp_dcm2bids/sub-01/bids_test5-20170120_fmap_acq-2.4mm_20170120084340_series006 (90x90x64x1)\n",
      "slices not stacked: echo varies (TE 7.38, 4.92; echo 2, 1). Use 'merge 2D slices' option to force stacking\n",
      "Convert 64 DICOM as output/tmp_dcm2bids/sub-01/bids_test5-20170120_fmap_acq-2.4mm_20170120084340_series006_e2 (90x90x64x1)\n",
      "slices stacked despite varying acquisition numbers (if this is not desired please recompile)\n",
      "Convert 15 DICOM as output/tmp_dcm2bids/sub-01/bids_test5-20170120_func_run+_task-rest_acq-2.4mm64sl1000tr32te600dyn_20170120084340_series009_e1 (90x90x64x15)\n",
      "Convert 192 DICOM as output/tmp_dcm2bids/sub-01/bids_test5-20170120_anat_T1w_acq-MPRAGE_run+_20170120084340_series005 (256x256x192x1)\n",
      "slices not stacked: orientation varies (localizer?) [0.988112 0.153427 0.00970667 -0.144459 0.905046 0.400028] != [0.988218 0.152686 0.010576 -0.122525 0.747812 0.652507]\n",
      "Convert 1 DICOM as output/tmp_dcm2bids/sub-01/bids_test5-20170120_anat-scout_run+_20170120084340_series004 (162x162x1x1)\n",
      "Warning: Check that 2D images are not mirrored.\n",
      "slices not stacked: orientation varies (localizer?) [0.988218 0.152686 0.010576 -0.122525 0.747812 0.652507] != [0.990558 0.137086 0.00122238 -0.116204 0.834876 0.538033]\n",
      "Convert 1 DICOM as output/tmp_dcm2bids/sub-01/bids_test5-20170120_anat-scout_run+_20170120084340_series004a (162x162x1x1)\n",
      "Warning: Check that 2D images are not mirrored.\n",
      "Convert 1 DICOM as output/tmp_dcm2bids/sub-01/bids_test5-20170120_anat-scout_run+_20170120084340_series004b (162x162x1x1)\n",
      "Warning: Check that 2D images are not mirrored.\n",
      "slices not stacked: orientation varies (localizer?) [-0.1345 0.832181 0.537945 -0.0744576 0.532856 -0.842924] != [-0.682594 0.513219 0.520261 -0.0917197 0.646115 -0.757709]\n",
      "Convert 1 DICOM as output/tmp_dcm2bids/sub-01/bids_test5-20170120_anat-scout_run+_20170120084340_series002 (162x162x1x1)\n",
      "Warning: Check that 2D images are not mirrored.\n",
      "slices not stacked: orientation varies (localizer?) [-0.682594 0.513219 0.520261 -0.0917197 0.646115 -0.757709] != [-0.120177 0.731511 0.671156 -0.0958729 0.664344 -0.741253]\n",
      "Convert 1 DICOM as output/tmp_dcm2bids/sub-01/bids_test5-20170120_anat-scout_run+_20170120084340_series002a (162x162x1x1)\n",
      "Warning: Check that 2D images are not mirrored.\n",
      "slices not stacked: orientation varies (localizer?) [-0.120177 0.731511 0.671156 -0.0958729 0.664344 -0.741253] != [0.537586 0.672632 0.508494 -0.0917197 0.646115 -0.757709]\n",
      "Convert 2 DICOM as output/tmp_dcm2bids/sub-01/bids_test5-20170120_anat-scout_run+_20170120084340_series002b (162x162x2x1)\n",
      "slices not stacked: orientation varies (localizer?) [0.537586 0.672632 0.508494 -0.0917197 0.646115 -0.757709] != [-0.120177 0.731511 0.671156 -0.0958729 0.664344 -0.741253]\n",
      "Convert 1 DICOM as output/tmp_dcm2bids/sub-01/bids_test5-20170120_anat-scout_run+_20170120084340_series002c (162x162x1x1)\n",
      "Warning: Check that 2D images are not mirrored.\n",
      "Convert 64 DICOM as output/tmp_dcm2bids/sub-01/bids_test5-20170120_fmap_acq-2.4mm_20170120084340_series007_e2 (90x90x64x1)\n",
      "Convert 128 DICOM as output/tmp_dcm2bids/sub-01/bids_test5-20170120_anat-scout_run+_20170120084340_series001 (160x160x128x1)\n",
      "Conversion required 6.195908 seconds (5.550000 for core code).\n",
      "\n",
      "'bids_test5-20170120_anat-scout_run+_20170120084340_series001.json' satisfies no description - skipping\n",
      "'bids_test5-20170120_anat-scout_run+_20170120084340_series002.json' satisfies no description - skipping\n",
      "'bids_test5-20170120_anat-scout_run+_20170120084340_series002a.json' satisfies no description - skipping\n",
      "'bids_test5-20170120_anat-scout_run+_20170120084340_series002b.json' satisfies no description - skipping\n",
      "'bids_test5-20170120_anat-scout_run+_20170120084340_series002c.json' satisfies no description - skipping\n",
      "'bids_test5-20170120_anat-scout_run+_20170120084340_series003.json' satisfies no description - skipping\n",
      "'bids_test5-20170120_anat-scout_run+_20170120084340_series003a.json' satisfies no description - skipping\n",
      "'bids_test5-20170120_anat-scout_run+_20170120084340_series003b.json' satisfies no description - skipping\n",
      "'bids_test5-20170120_anat-scout_run+_20170120084340_series004.json' satisfies no description - skipping\n",
      "'bids_test5-20170120_anat-scout_run+_20170120084340_series004a.json' satisfies no description - skipping\n",
      "'bids_test5-20170120_anat-scout_run+_20170120084340_series004b.json' satisfies no description - skipping\n",
      "'bids_test5-20170120_anat_T1w_acq-MPRAGE_run+_20170120084340_series005.json' satisfies no description - skipping\n",
      "'bids_test5-20170120_fmap_acq-2.4mm_20170120084340_series006.json' satisfies no description - skipping\n",
      "'bids_test5-20170120_fmap_acq-2.4mm_20170120084340_series006_e2.json' satisfies no description - skipping\n",
      "'bids_test5-20170120_fmap_acq-2.4mm_20170120084340_series007_e2.json' satisfies no description - skipping\n",
      "'bids_test5-20170120_func_run+_task-rest_acq-2.4mm64sl1000tr32te600dyn_20170120084340_series009_e1.json' satisfies no description - skipping\n",
      "\n"
     ]
    }
   ],
   "source": [
    "# and do a first test run of dcm2bids\n",
    "!dcm2bids -d bids_test5-20170120 -p 01 -c config.json -o output"
   ]
  },
  {
   "cell_type": "code",
   "execution_count": 38,
   "metadata": {
    "ExecuteTime": {
     "end_time": "2018-11-13T12:34:15.493274Z",
     "start_time": "2018-11-13T12:34:15.263871Z"
    },
    "slideshow": {
     "slide_type": "skip"
    }
   },
   "outputs": [
    {
     "name": "stdout",
     "output_type": "stream",
     "text": [
      "/usr/bin/sh: line 0: alias: cat: not found\r\n",
      "/usr/bin/sh: line 0: alias: vimcat: not found\r\n"
     ]
    }
   ],
   "source": [
    "  # somewhat robustly detect vimcat and alias cat\n",
    "if shutil.which(\"vimcat\"):\n",
    "    # sh\n",
    "    !alias cat=vimcat\n",
    "    # csh\n",
    "    !alias cat vimcat"
   ]
  },
  {
   "cell_type": "code",
   "execution_count": null,
   "metadata": {
    "ExecuteTime": {
     "end_time": "2018-11-13T15:24:44.961263Z",
     "start_time": "2018-11-13T15:24:44.841284Z"
    },
    "scrolled": false,
    "slideshow": {
     "slide_type": "slide"
    }
   },
   "outputs": [],
   "source": [
    "# Unsurprisingly there's not much in the output dir\n",
    "# but NB the tmp_dcm2bids dir!\n",
    "!tree output"
   ]
  },
  {
   "cell_type": "code",
   "execution_count": null,
   "metadata": {
    "ExecuteTime": {
     "end_time": "2018-11-13T15:24:45.083459Z",
     "start_time": "2018-11-13T15:24:44.963330Z"
    },
    "scrolled": true,
    "slideshow": {
     "slide_type": "slide"
    }
   },
   "outputs": [],
   "source": [
    "# so the trick is to extend the config json to unambiguously\n",
    "# identify our target acquisitions. Let's start with the t1.\n",
    "# What's in the sidecar?\n",
    "!cat output/tmp_dcm2bids/sub-01/bids_test5-20170120_anat_T1w_acq-MPRAGE_run+_20170120084340_series005.json"
   ]
  },
  {
   "cell_type": "code",
   "execution_count": null,
   "metadata": {
    "ExecuteTime": {
     "end_time": "2018-11-13T15:24:45.206038Z",
     "start_time": "2018-11-13T15:24:45.085626Z"
    },
    "slideshow": {
     "slide_type": "slide"
    }
   },
   "outputs": [],
   "source": [
    "# so our first description might be\n",
    "config[\"descriptions\"] = []\n",
    "config[\"descriptions\"].append({\"dataType\": \"anat\", \n",
    "                               \"suffix\": \"T1w\",\n",
    "                               \"criteria\": {\n",
    "                                   \"in\": {\n",
    "                                       \"SeriesDescription\": \n",
    "                                       \"anat_T1w_acq-MPRAGE_run\"\n",
    "                                   }\n",
    "                                   }\n",
    "                               })\n",
    "# save the config again\n",
    "writeconfig(config)\n",
    "!cat config.json"
   ]
  },
  {
   "cell_type": "code",
   "execution_count": null,
   "metadata": {
    "ExecuteTime": {
     "end_time": "2018-11-13T15:24:51.379180Z",
     "start_time": "2018-11-13T15:24:45.207925Z"
    },
    "scrolled": false,
    "slideshow": {
     "slide_type": "slide"
    }
   },
   "outputs": [],
   "source": [
    "# take 2\n",
    "!dcm2bids -d bids_test5-20170120 -p 01 -c config.json -o output"
   ]
  },
  {
   "cell_type": "code",
   "execution_count": null,
   "metadata": {
    "ExecuteTime": {
     "end_time": "2018-11-13T15:24:51.501161Z",
     "start_time": "2018-11-13T15:24:51.381172Z"
    },
    "scrolled": false,
    "slideshow": {
     "slide_type": "slide"
    }
   },
   "outputs": [],
   "source": [
    "# and now the output dir looks more interesting\n",
    "!tree -I tmp_dcm2bids output"
   ]
  },
  {
   "cell_type": "code",
   "execution_count": null,
   "metadata": {
    "ExecuteTime": {
     "end_time": "2018-11-13T15:24:51.620543Z",
     "start_time": "2018-11-13T15:24:51.502989Z"
    },
    "slideshow": {
     "slide_type": "slide"
    }
   },
   "outputs": [],
   "source": [
    "# some of the required BIDS project root files have been pre-populated, e.g.\n",
    "!cat output/dataset_description.json"
   ]
  },
  {
   "cell_type": "markdown",
   "metadata": {
    "slideshow": {
     "slide_type": "slide"
    }
   },
   "source": [
    "# Scaling up to a complete configuration"
   ]
  },
  {
   "cell_type": "code",
   "execution_count": null,
   "metadata": {
    "ExecuteTime": {
     "end_time": "2018-11-13T15:24:51.630784Z",
     "start_time": "2018-11-13T15:24:51.622284Z"
    },
    "slideshow": {
     "slide_type": "skip"
    }
   },
   "outputs": [],
   "source": [
    "# generate the full config example\n",
    "del config[\"descriptions\"][1:]\n",
    "# need a task for valid BIDS - \"rest\" is handy because it means we are exempt from\n",
    "# needing the events.tsv file\n",
    "config[\"descriptions\"].append({\"dataType\": \"func\", \n",
    "                               \"suffix\": \"bold\",\n",
    "                               \"criteria\": {\n",
    "                                   \"in\": {\n",
    "                                       \"PulseSequenceDetails\": \"bold\"\n",
    "                                   }\n",
    "                                   },\n",
    "                               \"customHeader\": {\"TaskName\": \"rest\"}\n",
    "                               })\n",
    "# unfortunately no real way to do this without matching on the echo times\n",
    "echo1 = 0.00492\n",
    "echo2 = 0.00738\n",
    "config[\"descriptions\"].append({\"dataType\": \"fmap\", \n",
    "                               \"suffix\": \"magnitude1\",\n",
    "                               \"criteria\": {\n",
    "                                   \"in\": {\n",
    "                                       \"PulseSequenceDetails\": \"field_mapping\"\n",
    "                                   },\n",
    "                                   \"equal\": {\n",
    "                                       \"ImageType\":\n",
    "                                       [\"ORIGINAL\", \"PRIMARY\", \"M\", \"ND\", \"NORM\"],\n",
    "                                       \"EchoTime\": echo1\n",
    "                                   }\n",
    "                                   }\n",
    "                               })\n",
    "config[\"descriptions\"].append({\"dataType\": \"fmap\", \n",
    "                               \"suffix\": \"magnitude2\",\n",
    "                               \"criteria\": {\n",
    "                                   \"in\": {\n",
    "                                       \"PulseSequenceDetails\": \"field_mapping\"\n",
    "                                   },\n",
    "                                   \"equal\": {\n",
    "                                       \"ImageType\":\n",
    "                                       [\"ORIGINAL\", \"PRIMARY\", \"M\", \"ND\", \"NORM\"],\n",
    "                                       \"EchoNumber\": 2,\n",
    "                                       \"EchoTime\": echo2\n",
    "                                   }\n",
    "                                   }\n",
    "                               })\n",
    "# need to intervene here to set EchoTime1 and EchoTime2\n",
    "# (is it going to be a problem that we also have an EchoTime field? We don't support\n",
    "# -removing- sidecar info right now)\n",
    "config[\"descriptions\"].append({\"dataType\": \"fmap\", \n",
    "                               \"suffix\": \"phasediff\",\n",
    "                               \"criteria\": {\n",
    "                                   \"in\": {\n",
    "                                       \"PulseSequenceDetails\": \"field_mapping\"\n",
    "                                   },\n",
    "                                   \"equal\": {\n",
    "                                       \"ImageType\": [\"ORIGINAL\", \"PRIMARY\", \"P\", \"ND\"]\n",
    "                                   }\n",
    "                                   },\n",
    "                               \"customHeader\": {\n",
    "                                   \"EchoTime1\": echo1,\n",
    "                                   \"EchoTime2\": echo2\n",
    "                               }\n",
    "                               })\n",
    "writeconfig(config, filename=\"config_complete.json\")"
   ]
  },
  {
   "cell_type": "code",
   "execution_count": null,
   "metadata": {
    "ExecuteTime": {
     "end_time": "2018-11-13T15:24:51.747169Z",
     "start_time": "2018-11-13T15:24:51.632016Z"
    },
    "slideshow": {
     "slide_type": "fragment"
    }
   },
   "outputs": [],
   "source": [
    "# here's one I made earlier...\n",
    "!cat config_complete.json"
   ]
  },
  {
   "cell_type": "code",
   "execution_count": null,
   "metadata": {
    "ExecuteTime": {
     "end_time": "2018-11-13T15:24:58.019601Z",
     "start_time": "2018-11-13T15:24:51.748847Z"
    },
    "scrolled": false,
    "slideshow": {
     "slide_type": "slide"
    }
   },
   "outputs": [],
   "source": [
    "# take 3\n",
    "shutil.rmtree(\"output\", ignore_errors=True)\n",
    "!dcm2bids -d bids_test5-20170120 -p 01 -c config_complete.json -o output"
   ]
  },
  {
   "cell_type": "code",
   "execution_count": null,
   "metadata": {
    "ExecuteTime": {
     "end_time": "2018-11-13T15:24:58.145535Z",
     "start_time": "2018-11-13T15:24:58.023845Z"
    },
    "cell_style": "center",
    "slideshow": {
     "slide_type": "slide"
    }
   },
   "outputs": [],
   "source": [
    "# and there you have it\n",
    "!tree -I tmp_dcm2bids output"
   ]
  },
  {
   "cell_type": "markdown",
   "metadata": {
    "slideshow": {
     "slide_type": "slide"
    }
   },
   "source": [
    "# Checking conversions with bids-validator"
   ]
  },
  {
   "cell_type": "code",
   "execution_count": null,
   "metadata": {
    "ExecuteTime": {
     "end_time": "2018-11-13T15:24:58.749716Z",
     "start_time": "2018-11-13T15:24:58.149361Z"
    },
    "slideshow": {
     "slide_type": "fragment"
    }
   },
   "outputs": [],
   "source": [
    "# NB you would still need to add some more info manually in\n",
    "# e.g. study_description.json\n",
    "!bids-validator output"
   ]
  },
  {
   "cell_type": "markdown",
   "metadata": {
    "slideshow": {
     "slide_type": "slide"
    }
   },
   "source": [
    "# Resources\n",
    "\n",
    "* [The BIDS starter kit](https://github.com/bids-standard/bids-starter-kit) - wiki with links to various resources\n",
    "* [The official BIDS website](http://bids.neuroimaging.io/) - the official BIDS specification is surprisingly readable\n",
    "* [Michael Notter's Nipype tutorial](https://github.com/miykael/nipype_tutorial) - great interactive tutorials on working with BIDS data in Python\n",
    "* [BIDS-Validator web app](https://bids-standard.github.io/bids-validator/) - convenient way to check BIDS conversions\n",
    "* [dcm2bids (jooh fork)](https://github.com/jooh/Dcm2Bids) - run the conversion code presented here"
   ]
  },
  {
   "cell_type": "markdown",
   "metadata": {
    "slideshow": {
     "slide_type": "slide"
    }
   },
   "source": [
    " "
   ]
  }
 ],
 "metadata": {
  "celltoolbar": "Slideshow",
  "kernelspec": {
   "display_name": "Python 3",
   "language": "python",
   "name": "python3"
  },
  "language_info": {
   "codemirror_mode": {
    "name": "ipython",
    "version": 3
   },
   "file_extension": ".py",
   "mimetype": "text/x-python",
   "name": "python",
   "nbconvert_exporter": "python",
   "pygments_lexer": "ipython3",
   "version": "3.6.5"
  },
  "rise": {
   "controls": false,
   "scroll": true
  },
  "varInspector": {
   "cols": {
    "lenName": 16,
    "lenType": 16,
    "lenVar": 40
   },
   "kernels_config": {
    "python": {
     "delete_cmd_postfix": "",
     "delete_cmd_prefix": "del ",
     "library": "var_list.py",
     "varRefreshCmd": "print(var_dic_list())"
    },
    "r": {
     "delete_cmd_postfix": ") ",
     "delete_cmd_prefix": "rm(",
     "library": "var_list.r",
     "varRefreshCmd": "cat(var_dic_list()) "
    }
   },
   "types_to_exclude": [
    "module",
    "function",
    "builtin_function_or_method",
    "instance",
    "_Feature"
   ],
   "window_display": false
  }
 },
 "nbformat": 4,
 "nbformat_minor": 2
}
