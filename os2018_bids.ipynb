{
 "cells": [
  {
   "cell_type": "code",
   "execution_count": 1,
   "metadata": {
    "ExecuteTime": {
     "end_time": "2018-11-16T12:52:36.912229Z",
     "start_time": "2018-11-16T12:52:22.557167Z"
    },
    "scrolled": true,
    "slideshow": {
     "slide_type": "skip"
    }
   },
   "outputs": [
    {
     "name": "stdout",
     "output_type": "stream",
     "text": [
      "[\u001b[1;33mWARNING\u001b[0m] Running drop resulted in stderr output: git-annex: derivatives/* not found\n",
      "git-annex: drop: 1 failed\n",
      " \n",
      "\u001b[1;1mdrop\u001b[0m(\u001b[1;31merror\u001b[0m): /imaging/jc01/bidstalk_2018/ds000114/derivatives/* (\u001b[1;35mfile\u001b[0m) [not found]\n",
      "[\u001b[1;37mINFO   \u001b[0m] Installing <Dataset path=/imaging/jc01/bidstalk_2018/ds000114> recursively \n",
      "action summary:\n",
      "  get (notneeded: 2)\n"
     ]
    },
    {
     "name": "stderr",
     "output_type": "stream",
     "text": [
      "Failed to import duecredit due to No module named 'duecredit'\n",
      "/imaging/local/software/centos7/anaconda3/envs/cbu_nipy_1_00/lib/python3.6/importlib/_bootstrap.py:219: RuntimeWarning: numpy.dtype size changed, may indicate binary incompatibility. Expected 96, got 88\n",
      "  return f(*args, **kwds)\n",
      "/imaging/local/software/centos7/anaconda3/envs/cbu_nipy_1_00/lib/python3.6/importlib/_bootstrap.py:219: RuntimeWarning: numpy.dtype size changed, may indicate binary incompatibility. Expected 96, got 88\n",
      "  return f(*args, **kwds)\n",
      "/imaging/local/software/centos7/anaconda3/envs/cbu_nipy_1_00/lib/python3.6/importlib/_bootstrap.py:219: RuntimeWarning: numpy.dtype size changed, may indicate binary incompatibility. Expected 88 from C header, got 96 from PyObject\n",
      "  return f(*args, **kwds)\n"
     ]
    }
   ],
   "source": [
    "# preliminary stuff - get demo BIDS dataset\n",
    "!datalad install ///workshops/nipype-2017/ds000114\n",
    "!datalad remove ds000114/derivatives/*\n",
    "!datalad get -r ds000114\n",
    "# also double up import to avoid ugly warnings printing during slideshow\n",
    "from bids.layout import BIDSLayout\n",
    "import os.path\n",
    "import shutil\n",
    "# house keeping\n",
    "if os.path.exists(\"output\"):\n",
    "    shutil.rmtree(\"output\", ignore_errors=True)"
   ]
  },
  {
   "cell_type": "code",
   "execution_count": 2,
   "metadata": {
    "ExecuteTime": {
     "end_time": "2018-11-16T12:52:38.371394Z",
     "start_time": "2018-11-16T12:52:36.914478Z"
    },
    "slideshow": {
     "slide_type": "skip"
    }
   },
   "outputs": [
    {
     "name": "stdout",
     "output_type": "stream",
     "text": [
      "action summary:\r\n",
      "  get (notneeded: 1)\r\n",
      "  install (notneeded: 1)\r\n"
     ]
    }
   ],
   "source": [
    "# and demo dicoms for dcm2bids\n",
    "!datalad install -g ///dicoms/dartmouth-phantoms/bids_test5-20170120"
   ]
  },
  {
   "cell_type": "markdown",
   "metadata": {
    "slideshow": {
     "slide_type": "slide"
    }
   },
   "source": [
    "# <center>Brain Imaging Data Structure (BIDS): A standard format for neuroscience data</center>\n",
    "<center>Johan Carlin</center>\n",
    "<p></p>\n",
    "<center><a href>https://github.com/jooh/notebook_bids_OSD2018</a></center>\n",
    "<center><img src=\"MRC_CBU_Cambridge_colour_web_A5.png\"></center>"
   ]
  },
  {
   "cell_type": "markdown",
   "metadata": {
    "cell_style": "split",
    "slideshow": {
     "slide_type": "slide"
    }
   },
   "source": [
    "## In BIDS 1.1.1\n",
    "* MRI - anatomical, functional, diffusion, field maps…\n",
    "* MEG\n",
    "* Physiological recordings\n",
    "* Behavioural data"
   ]
  },
  {
   "cell_type": "markdown",
   "metadata": {
    "cell_style": "split",
    "slideshow": {
     "slide_type": "fragment"
    }
   },
   "source": [
    "## Draft extensions\n",
    "* Model specification\n",
    "* Derivatives - structural, functional, resting state, diffusion…\n",
    "* New modalities - EEG, PET, ASL, Eye tracking, intracranial EEG"
   ]
  },
  {
   "cell_type": "markdown",
   "metadata": {
    "slideshow": {
     "slide_type": "slide"
    }
   },
   "source": [
    "# MRI example"
   ]
  },
  {
   "cell_type": "code",
   "execution_count": 3,
   "metadata": {
    "ExecuteTime": {
     "end_time": "2018-11-16T12:52:38.494165Z",
     "start_time": "2018-11-16T12:52:38.373244Z"
    },
    "cell_style": "split",
    "slideshow": {
     "slide_type": "fragment"
    }
   },
   "outputs": [
    {
     "name": "stdout",
     "output_type": "stream",
     "text": [
      "\u001b[01;34mds000114\u001b[00m\r\n",
      "├── dataset_description.json\r\n",
      "├── dwi.bval\r\n",
      "├── dwi.bvec\r\n",
      "├── \u001b[01;34msub-01\u001b[00m\r\n",
      "│   ├── \u001b[01;34manat\u001b[00m\r\n",
      "│   ├── \u001b[01;34mdwi\u001b[00m\r\n",
      "│   └── \u001b[01;34mfunc\u001b[00m\r\n",
      "├── \u001b[01;34msub-02\u001b[00m\r\n",
      "│   ├── \u001b[01;34manat\u001b[00m\r\n",
      "│   ├── \u001b[01;34mdwi\u001b[00m\r\n",
      "│   └── \u001b[01;34mfunc\u001b[00m\r\n",
      "├── task-fingerfootlips_bold.json\r\n",
      "├── task-fingerfootlips_events.tsv\r\n",
      "└── task-linebisection_bold.json\r\n",
      "\r\n",
      "8 directories, 6 files\r\n"
     ]
    }
   ],
   "source": [
    "# basic directory structure\n",
    "!tree -CL 2 ds000114"
   ]
  },
  {
   "cell_type": "code",
   "execution_count": 4,
   "metadata": {
    "ExecuteTime": {
     "end_time": "2018-11-16T12:52:38.737235Z",
     "start_time": "2018-11-16T12:52:38.497051Z"
    },
    "cell_style": "split",
    "scrolled": true,
    "slideshow": {
     "slide_type": "fragment"
    }
   },
   "outputs": [
    {
     "name": "stdout",
     "output_type": "stream",
     "text": [
      "sub-01_task-fingerfootlips_bold.nii.gz\r\n",
      "sub-01_task-linebisection_bold.nii.gz\r\n",
      "sub-01_task-linebisection_events.tsv\r\n"
     ]
    },
    {
     "data": {
      "text/html": [
       "<div>\n",
       "<style scoped>\n",
       "    .dataframe tbody tr th:only-of-type {\n",
       "        vertical-align: middle;\n",
       "    }\n",
       "\n",
       "    .dataframe tbody tr th {\n",
       "        vertical-align: top;\n",
       "    }\n",
       "\n",
       "    .dataframe thead th {\n",
       "        text-align: right;\n",
       "    }\n",
       "</style>\n",
       "<table border=\"1\" class=\"dataframe\">\n",
       "  <thead>\n",
       "    <tr style=\"text-align: right;\">\n",
       "      <th></th>\n",
       "      <th>onset</th>\n",
       "      <th>duration</th>\n",
       "      <th>weight</th>\n",
       "      <th>trial_type</th>\n",
       "    </tr>\n",
       "  </thead>\n",
       "  <tbody>\n",
       "    <tr>\n",
       "      <th>0</th>\n",
       "      <td>24.3065</td>\n",
       "      <td>1</td>\n",
       "      <td>1.0</td>\n",
       "      <td>Incorrect_Task</td>\n",
       "    </tr>\n",
       "    <tr>\n",
       "      <th>1</th>\n",
       "      <td>25.9465</td>\n",
       "      <td>1</td>\n",
       "      <td>1.0</td>\n",
       "      <td>Correct_Task</td>\n",
       "    </tr>\n",
       "    <tr>\n",
       "      <th>2</th>\n",
       "      <td>27.5865</td>\n",
       "      <td>1</td>\n",
       "      <td>1.0</td>\n",
       "      <td>Correct_Task</td>\n",
       "    </tr>\n",
       "    <tr>\n",
       "      <th>3</th>\n",
       "      <td>29.2265</td>\n",
       "      <td>1</td>\n",
       "      <td>1.0</td>\n",
       "      <td>No_Response_Task</td>\n",
       "    </tr>\n",
       "    <tr>\n",
       "      <th>4</th>\n",
       "      <td>30.8664</td>\n",
       "      <td>1</td>\n",
       "      <td>1.0</td>\n",
       "      <td>Incorrect_Task</td>\n",
       "    </tr>\n",
       "    <tr>\n",
       "      <th>5</th>\n",
       "      <td>32.5064</td>\n",
       "      <td>1</td>\n",
       "      <td>1.0</td>\n",
       "      <td>No_Response_Task</td>\n",
       "    </tr>\n",
       "    <tr>\n",
       "      <th>6</th>\n",
       "      <td>34.1464</td>\n",
       "      <td>1</td>\n",
       "      <td>1.0</td>\n",
       "      <td>Correct_Task</td>\n",
       "    </tr>\n",
       "    <tr>\n",
       "      <th>7</th>\n",
       "      <td>35.7864</td>\n",
       "      <td>1</td>\n",
       "      <td>1.0</td>\n",
       "      <td>Incorrect_Task</td>\n",
       "    </tr>\n",
       "    <tr>\n",
       "      <th>8</th>\n",
       "      <td>37.4264</td>\n",
       "      <td>1</td>\n",
       "      <td>1.0</td>\n",
       "      <td>Correct_Task</td>\n",
       "    </tr>\n",
       "    <tr>\n",
       "      <th>9</th>\n",
       "      <td>39.0664</td>\n",
       "      <td>1</td>\n",
       "      <td>1.0</td>\n",
       "      <td>Incorrect_Task</td>\n",
       "    </tr>\n",
       "    <tr>\n",
       "      <th>10</th>\n",
       "      <td>56.9730</td>\n",
       "      <td>1</td>\n",
       "      <td>1.0</td>\n",
       "      <td>Response_Control</td>\n",
       "    </tr>\n",
       "    <tr>\n",
       "      <th>11</th>\n",
       "      <td>58.6130</td>\n",
       "      <td>1</td>\n",
       "      <td>1.0</td>\n",
       "      <td>No_Response_Control</td>\n",
       "    </tr>\n",
       "    <tr>\n",
       "      <th>12</th>\n",
       "      <td>60.2530</td>\n",
       "      <td>1</td>\n",
       "      <td>1.0</td>\n",
       "      <td>Response_Control</td>\n",
       "    </tr>\n",
       "    <tr>\n",
       "      <th>13</th>\n",
       "      <td>61.8930</td>\n",
       "      <td>1</td>\n",
       "      <td>1.0</td>\n",
       "      <td>No_Response_Control</td>\n",
       "    </tr>\n",
       "    <tr>\n",
       "      <th>14</th>\n",
       "      <td>63.5330</td>\n",
       "      <td>1</td>\n",
       "      <td>1.0</td>\n",
       "      <td>Response_Control</td>\n",
       "    </tr>\n",
       "    <tr>\n",
       "      <th>15</th>\n",
       "      <td>65.1730</td>\n",
       "      <td>1</td>\n",
       "      <td>1.0</td>\n",
       "      <td>Response_Control</td>\n",
       "    </tr>\n",
       "    <tr>\n",
       "      <th>16</th>\n",
       "      <td>66.8129</td>\n",
       "      <td>1</td>\n",
       "      <td>1.0</td>\n",
       "      <td>Response_Control</td>\n",
       "    </tr>\n",
       "    <tr>\n",
       "      <th>17</th>\n",
       "      <td>68.4529</td>\n",
       "      <td>1</td>\n",
       "      <td>1.0</td>\n",
       "      <td>Response_Control</td>\n",
       "    </tr>\n",
       "    <tr>\n",
       "      <th>18</th>\n",
       "      <td>70.0929</td>\n",
       "      <td>1</td>\n",
       "      <td>1.0</td>\n",
       "      <td>Response_Control</td>\n",
       "    </tr>\n",
       "    <tr>\n",
       "      <th>19</th>\n",
       "      <td>71.7329</td>\n",
       "      <td>1</td>\n",
       "      <td>1.0</td>\n",
       "      <td>No_Response_Control</td>\n",
       "    </tr>\n",
       "    <tr>\n",
       "      <th>20</th>\n",
       "      <td>89.6395</td>\n",
       "      <td>1</td>\n",
       "      <td>1.0</td>\n",
       "      <td>Correct_Task</td>\n",
       "    </tr>\n",
       "    <tr>\n",
       "      <th>21</th>\n",
       "      <td>91.2795</td>\n",
       "      <td>1</td>\n",
       "      <td>1.0</td>\n",
       "      <td>Correct_Task</td>\n",
       "    </tr>\n",
       "    <tr>\n",
       "      <th>22</th>\n",
       "      <td>92.9195</td>\n",
       "      <td>1</td>\n",
       "      <td>1.0</td>\n",
       "      <td>Incorrect_Task</td>\n",
       "    </tr>\n",
       "    <tr>\n",
       "      <th>23</th>\n",
       "      <td>94.5595</td>\n",
       "      <td>1</td>\n",
       "      <td>1.0</td>\n",
       "      <td>Incorrect_Task</td>\n",
       "    </tr>\n",
       "    <tr>\n",
       "      <th>24</th>\n",
       "      <td>96.1995</td>\n",
       "      <td>1</td>\n",
       "      <td>1.0</td>\n",
       "      <td>Correct_Task</td>\n",
       "    </tr>\n",
       "    <tr>\n",
       "      <th>25</th>\n",
       "      <td>97.8395</td>\n",
       "      <td>1</td>\n",
       "      <td>1.0</td>\n",
       "      <td>No_Response_Task</td>\n",
       "    </tr>\n",
       "    <tr>\n",
       "      <th>26</th>\n",
       "      <td>99.4795</td>\n",
       "      <td>1</td>\n",
       "      <td>1.0</td>\n",
       "      <td>Incorrect_Task</td>\n",
       "    </tr>\n",
       "    <tr>\n",
       "      <th>27</th>\n",
       "      <td>101.1194</td>\n",
       "      <td>1</td>\n",
       "      <td>1.0</td>\n",
       "      <td>Correct_Task</td>\n",
       "    </tr>\n",
       "    <tr>\n",
       "      <th>28</th>\n",
       "      <td>102.7594</td>\n",
       "      <td>1</td>\n",
       "      <td>1.0</td>\n",
       "      <td>Correct_Task</td>\n",
       "    </tr>\n",
       "    <tr>\n",
       "      <th>29</th>\n",
       "      <td>104.3994</td>\n",
       "      <td>1</td>\n",
       "      <td>1.0</td>\n",
       "      <td>Correct_Task</td>\n",
       "    </tr>\n",
       "    <tr>\n",
       "      <th>...</th>\n",
       "      <td>...</td>\n",
       "      <td>...</td>\n",
       "      <td>...</td>\n",
       "      <td>...</td>\n",
       "    </tr>\n",
       "    <tr>\n",
       "      <th>130</th>\n",
       "      <td>448.9711</td>\n",
       "      <td>1</td>\n",
       "      <td>1.0</td>\n",
       "      <td>Response_Control</td>\n",
       "    </tr>\n",
       "    <tr>\n",
       "      <th>131</th>\n",
       "      <td>450.6111</td>\n",
       "      <td>1</td>\n",
       "      <td>1.0</td>\n",
       "      <td>No_Response_Control</td>\n",
       "    </tr>\n",
       "    <tr>\n",
       "      <th>132</th>\n",
       "      <td>452.2511</td>\n",
       "      <td>1</td>\n",
       "      <td>1.0</td>\n",
       "      <td>Response_Control</td>\n",
       "    </tr>\n",
       "    <tr>\n",
       "      <th>133</th>\n",
       "      <td>453.8911</td>\n",
       "      <td>1</td>\n",
       "      <td>1.0</td>\n",
       "      <td>No_Response_Control</td>\n",
       "    </tr>\n",
       "    <tr>\n",
       "      <th>134</th>\n",
       "      <td>455.5311</td>\n",
       "      <td>1</td>\n",
       "      <td>1.0</td>\n",
       "      <td>Response_Control</td>\n",
       "    </tr>\n",
       "    <tr>\n",
       "      <th>135</th>\n",
       "      <td>457.1711</td>\n",
       "      <td>1</td>\n",
       "      <td>1.0</td>\n",
       "      <td>Response_Control</td>\n",
       "    </tr>\n",
       "    <tr>\n",
       "      <th>136</th>\n",
       "      <td>458.8111</td>\n",
       "      <td>1</td>\n",
       "      <td>1.0</td>\n",
       "      <td>Response_Control</td>\n",
       "    </tr>\n",
       "    <tr>\n",
       "      <th>137</th>\n",
       "      <td>460.4511</td>\n",
       "      <td>1</td>\n",
       "      <td>1.0</td>\n",
       "      <td>Response_Control</td>\n",
       "    </tr>\n",
       "    <tr>\n",
       "      <th>138</th>\n",
       "      <td>462.0910</td>\n",
       "      <td>1</td>\n",
       "      <td>1.0</td>\n",
       "      <td>Response_Control</td>\n",
       "    </tr>\n",
       "    <tr>\n",
       "      <th>139</th>\n",
       "      <td>463.7310</td>\n",
       "      <td>1</td>\n",
       "      <td>1.0</td>\n",
       "      <td>No_Response_Control</td>\n",
       "    </tr>\n",
       "    <tr>\n",
       "      <th>140</th>\n",
       "      <td>481.6376</td>\n",
       "      <td>1</td>\n",
       "      <td>1.0</td>\n",
       "      <td>Incorrect_Task</td>\n",
       "    </tr>\n",
       "    <tr>\n",
       "      <th>141</th>\n",
       "      <td>483.2776</td>\n",
       "      <td>1</td>\n",
       "      <td>1.0</td>\n",
       "      <td>Correct_Task</td>\n",
       "    </tr>\n",
       "    <tr>\n",
       "      <th>142</th>\n",
       "      <td>484.9176</td>\n",
       "      <td>1</td>\n",
       "      <td>1.0</td>\n",
       "      <td>Correct_Task</td>\n",
       "    </tr>\n",
       "    <tr>\n",
       "      <th>143</th>\n",
       "      <td>486.5576</td>\n",
       "      <td>1</td>\n",
       "      <td>1.0</td>\n",
       "      <td>No_Response_Task</td>\n",
       "    </tr>\n",
       "    <tr>\n",
       "      <th>144</th>\n",
       "      <td>488.1976</td>\n",
       "      <td>1</td>\n",
       "      <td>1.0</td>\n",
       "      <td>Incorrect_Task</td>\n",
       "    </tr>\n",
       "    <tr>\n",
       "      <th>145</th>\n",
       "      <td>489.8376</td>\n",
       "      <td>1</td>\n",
       "      <td>1.0</td>\n",
       "      <td>No_Response_Task</td>\n",
       "    </tr>\n",
       "    <tr>\n",
       "      <th>146</th>\n",
       "      <td>491.4776</td>\n",
       "      <td>1</td>\n",
       "      <td>1.0</td>\n",
       "      <td>Correct_Task</td>\n",
       "    </tr>\n",
       "    <tr>\n",
       "      <th>147</th>\n",
       "      <td>493.1176</td>\n",
       "      <td>1</td>\n",
       "      <td>1.0</td>\n",
       "      <td>Incorrect_Task</td>\n",
       "    </tr>\n",
       "    <tr>\n",
       "      <th>148</th>\n",
       "      <td>494.7576</td>\n",
       "      <td>1</td>\n",
       "      <td>1.0</td>\n",
       "      <td>Correct_Task</td>\n",
       "    </tr>\n",
       "    <tr>\n",
       "      <th>149</th>\n",
       "      <td>496.3976</td>\n",
       "      <td>1</td>\n",
       "      <td>1.0</td>\n",
       "      <td>Correct_Task</td>\n",
       "    </tr>\n",
       "    <tr>\n",
       "      <th>150</th>\n",
       "      <td>514.3041</td>\n",
       "      <td>1</td>\n",
       "      <td>1.0</td>\n",
       "      <td>Response_Control</td>\n",
       "    </tr>\n",
       "    <tr>\n",
       "      <th>151</th>\n",
       "      <td>515.9441</td>\n",
       "      <td>1</td>\n",
       "      <td>1.0</td>\n",
       "      <td>No_Response_Control</td>\n",
       "    </tr>\n",
       "    <tr>\n",
       "      <th>152</th>\n",
       "      <td>517.5841</td>\n",
       "      <td>1</td>\n",
       "      <td>1.0</td>\n",
       "      <td>Response_Control</td>\n",
       "    </tr>\n",
       "    <tr>\n",
       "      <th>153</th>\n",
       "      <td>519.2241</td>\n",
       "      <td>1</td>\n",
       "      <td>1.0</td>\n",
       "      <td>Response_Control</td>\n",
       "    </tr>\n",
       "    <tr>\n",
       "      <th>154</th>\n",
       "      <td>520.8641</td>\n",
       "      <td>1</td>\n",
       "      <td>1.0</td>\n",
       "      <td>Response_Control</td>\n",
       "    </tr>\n",
       "    <tr>\n",
       "      <th>155</th>\n",
       "      <td>522.5041</td>\n",
       "      <td>1</td>\n",
       "      <td>1.0</td>\n",
       "      <td>No_Response_Control</td>\n",
       "    </tr>\n",
       "    <tr>\n",
       "      <th>156</th>\n",
       "      <td>524.1441</td>\n",
       "      <td>1</td>\n",
       "      <td>1.0</td>\n",
       "      <td>Response_Control</td>\n",
       "    </tr>\n",
       "    <tr>\n",
       "      <th>157</th>\n",
       "      <td>525.7841</td>\n",
       "      <td>1</td>\n",
       "      <td>1.0</td>\n",
       "      <td>No_Response_Control</td>\n",
       "    </tr>\n",
       "    <tr>\n",
       "      <th>158</th>\n",
       "      <td>527.4241</td>\n",
       "      <td>1</td>\n",
       "      <td>1.0</td>\n",
       "      <td>Response_Control</td>\n",
       "    </tr>\n",
       "    <tr>\n",
       "      <th>159</th>\n",
       "      <td>529.0641</td>\n",
       "      <td>1</td>\n",
       "      <td>1.0</td>\n",
       "      <td>No_Response_Control</td>\n",
       "    </tr>\n",
       "  </tbody>\n",
       "</table>\n",
       "<p>160 rows × 4 columns</p>\n",
       "</div>"
      ],
      "text/plain": [
       "        onset  duration  weight           trial_type\n",
       "0     24.3065         1     1.0       Incorrect_Task\n",
       "1     25.9465         1     1.0         Correct_Task\n",
       "2     27.5865         1     1.0         Correct_Task\n",
       "3     29.2265         1     1.0     No_Response_Task\n",
       "4     30.8664         1     1.0       Incorrect_Task\n",
       "5     32.5064         1     1.0     No_Response_Task\n",
       "6     34.1464         1     1.0         Correct_Task\n",
       "7     35.7864         1     1.0       Incorrect_Task\n",
       "8     37.4264         1     1.0         Correct_Task\n",
       "9     39.0664         1     1.0       Incorrect_Task\n",
       "10    56.9730         1     1.0     Response_Control\n",
       "11    58.6130         1     1.0  No_Response_Control\n",
       "12    60.2530         1     1.0     Response_Control\n",
       "13    61.8930         1     1.0  No_Response_Control\n",
       "14    63.5330         1     1.0     Response_Control\n",
       "15    65.1730         1     1.0     Response_Control\n",
       "16    66.8129         1     1.0     Response_Control\n",
       "17    68.4529         1     1.0     Response_Control\n",
       "18    70.0929         1     1.0     Response_Control\n",
       "19    71.7329         1     1.0  No_Response_Control\n",
       "20    89.6395         1     1.0         Correct_Task\n",
       "21    91.2795         1     1.0         Correct_Task\n",
       "22    92.9195         1     1.0       Incorrect_Task\n",
       "23    94.5595         1     1.0       Incorrect_Task\n",
       "24    96.1995         1     1.0         Correct_Task\n",
       "25    97.8395         1     1.0     No_Response_Task\n",
       "26    99.4795         1     1.0       Incorrect_Task\n",
       "27   101.1194         1     1.0         Correct_Task\n",
       "28   102.7594         1     1.0         Correct_Task\n",
       "29   104.3994         1     1.0         Correct_Task\n",
       "..        ...       ...     ...                  ...\n",
       "130  448.9711         1     1.0     Response_Control\n",
       "131  450.6111         1     1.0  No_Response_Control\n",
       "132  452.2511         1     1.0     Response_Control\n",
       "133  453.8911         1     1.0  No_Response_Control\n",
       "134  455.5311         1     1.0     Response_Control\n",
       "135  457.1711         1     1.0     Response_Control\n",
       "136  458.8111         1     1.0     Response_Control\n",
       "137  460.4511         1     1.0     Response_Control\n",
       "138  462.0910         1     1.0     Response_Control\n",
       "139  463.7310         1     1.0  No_Response_Control\n",
       "140  481.6376         1     1.0       Incorrect_Task\n",
       "141  483.2776         1     1.0         Correct_Task\n",
       "142  484.9176         1     1.0         Correct_Task\n",
       "143  486.5576         1     1.0     No_Response_Task\n",
       "144  488.1976         1     1.0       Incorrect_Task\n",
       "145  489.8376         1     1.0     No_Response_Task\n",
       "146  491.4776         1     1.0         Correct_Task\n",
       "147  493.1176         1     1.0       Incorrect_Task\n",
       "148  494.7576         1     1.0         Correct_Task\n",
       "149  496.3976         1     1.0         Correct_Task\n",
       "150  514.3041         1     1.0     Response_Control\n",
       "151  515.9441         1     1.0  No_Response_Control\n",
       "152  517.5841         1     1.0     Response_Control\n",
       "153  519.2241         1     1.0     Response_Control\n",
       "154  520.8641         1     1.0     Response_Control\n",
       "155  522.5041         1     1.0  No_Response_Control\n",
       "156  524.1441         1     1.0     Response_Control\n",
       "157  525.7841         1     1.0  No_Response_Control\n",
       "158  527.4241         1     1.0     Response_Control\n",
       "159  529.0641         1     1.0  No_Response_Control\n",
       "\n",
       "[160 rows x 4 columns]"
      ]
     },
     "execution_count": 4,
     "metadata": {},
     "output_type": "execute_result"
    }
   ],
   "source": [
    "# and inside one func folder\n",
    "subdir = \"ds000114/sub-01/func\"\n",
    "!ls -1 {subdir}\n",
    "# and an events file\n",
    "import pandas as pd\n",
    "pd.read_csv(\n",
    "    f\"{subdir}/sub-01_task-linebisection_events.tsv\",delimiter=\"\\t\")"
   ]
  },
  {
   "cell_type": "markdown",
   "metadata": {
    "slideshow": {
     "slide_type": "slide"
    }
   },
   "source": [
    "# Why BIDS?"
   ]
  },
  {
   "cell_type": "markdown",
   "metadata": {
    "slideshow": {
     "slide_type": "fragment"
    }
   },
   "source": [
    "**Users** get easy access to new analysis tools, e.g.\n",
    "`fmriprep ds000114 outdir sub-01 -w workdir`"
   ]
  },
  {
   "cell_type": "code",
   "execution_count": 5,
   "metadata": {
    "ExecuteTime": {
     "end_time": "2018-11-16T12:52:38.784403Z",
     "start_time": "2018-11-16T12:52:38.739792Z"
    },
    "slideshow": {
     "slide_type": "fragment"
    }
   },
   "outputs": [
    {
     "name": "stdout",
     "output_type": "stream",
     "text": [
      "['01', '02']\n"
     ]
    },
    {
     "data": {
      "text/plain": [
       "['/imaging/jc01/bidstalk_2018/ds000114/sub-01/anat/sub-01_T1w.nii.gz']"
      ]
     },
     "execution_count": 5,
     "metadata": {},
     "output_type": "execute_result"
    }
   ],
   "source": [
    "# Developers:\n",
    "from bids.layout import BIDSLayout\n",
    "layout = BIDSLayout(\"ds000114\")\n",
    "subjects = layout.get_subjects()\n",
    "print(subjects)\n",
    "layout.get(subject=subjects[0], type=\"T1w\", return_type='file')"
   ]
  },
  {
   "cell_type": "markdown",
   "metadata": {
    "slideshow": {
     "slide_type": "slide"
    }
   },
   "source": [
    "# Dcm2Bids\n",
    "Fully automated conversion from dicom to BIDS-compliant output data.\n",
    "* Converts dicoms to nifti (using dcm2niix), optionally anonymises structurals\n",
    "* Moves niftis and header sidecars to the correct BIDS-format locations\n",
    "* Adds custom fields to header sidecars as needed for BIDS compliance\n",
    "* Initialises all required BIDS project files with sensible defaults"
   ]
  },
  {
   "cell_type": "markdown",
   "metadata": {
    "slideshow": {
     "slide_type": "slide"
    }
   },
   "source": [
    "# Input dicoms"
   ]
  },
  {
   "cell_type": "code",
   "execution_count": 6,
   "metadata": {
    "ExecuteTime": {
     "end_time": "2018-11-16T12:52:38.951901Z",
     "start_time": "2018-11-16T12:52:38.786170Z"
    },
    "slideshow": {
     "slide_type": "fragment"
    }
   },
   "outputs": [
    {
     "name": "stdout",
     "output_type": "stream",
     "text": [
      "\u001b[01;34mbids_test5-20170120/phantom-1/\u001b[00m\r\n",
      "├── \u001b[01;34m001-anat-scout_run+\u001b[00m\r\n",
      "├── \u001b[01;34m002-anat-scout_run+_MPR_sag\u001b[00m\r\n",
      "├── \u001b[01;34m003-anat-scout_run+_MPR_cor\u001b[00m\r\n",
      "├── \u001b[01;34m004-anat-scout_run+_MPR_tra\u001b[00m\r\n",
      "├── \u001b[01;34m005-anat_T1w_acq-MPRAGE_run+\u001b[00m\r\n",
      "├── \u001b[01;34m006-fmap_acq-2.4mm\u001b[00m\r\n",
      "├── \u001b[01;34m007-fmap_acq-2.4mm\u001b[00m\r\n",
      "└── \u001b[01;34m009-func_run+_task-rest_acq-2.4mm64sl1000tr32te600dyn\u001b[00m\r\n",
      "\r\n",
      "8 directories, 0 files\r\n"
     ]
    }
   ],
   "source": [
    "!tree -CL 1 bids_test5-20170120/phantom-1/"
   ]
  },
  {
   "cell_type": "markdown",
   "metadata": {
    "ExecuteTime": {
     "end_time": "2018-11-14T08:38:44.234742Z",
     "start_time": "2018-11-14T08:38:44.232550Z"
    },
    "slideshow": {
     "slide_type": "slide"
    }
   },
   "source": [
    "# Minimal configuration for a first test run\n",
    "dcm2bids uses a configuration JSON file to map from dicom series to BIDS output files"
   ]
  },
  {
   "cell_type": "code",
   "execution_count": 7,
   "metadata": {
    "ExecuteTime": {
     "end_time": "2018-11-16T12:52:39.146009Z",
     "start_time": "2018-11-16T12:52:38.953673Z"
    },
    "slideshow": {
     "slide_type": "fragment"
    }
   },
   "outputs": [
    {
     "name": "stdout",
     "output_type": "stream",
     "text": [
      "{\r\n",
      "    \"descriptions\": []\r\n",
      "}"
     ]
    }
   ],
   "source": [
    "# you could just type it out but we we will extend the dict below\n",
    "import json\n",
    "config = dict(descriptions=[])\n",
    "def writeconfig(config, filename=\"config.json\"):\n",
    "    with open(filename, \"w\") as fp:\n",
    "        json.dump(config, fp, indent=4)\n",
    "writeconfig(config)\n",
    "!cat config.json"
   ]
  },
  {
   "cell_type": "code",
   "execution_count": 8,
   "metadata": {
    "ExecuteTime": {
     "end_time": "2018-11-16T12:52:45.193358Z",
     "start_time": "2018-11-16T12:52:39.147793Z"
    },
    "scrolled": true,
    "slideshow": {
     "slide_type": "slide"
    }
   },
   "outputs": [
    {
     "name": "stdout",
     "output_type": "stream",
     "text": [
      "\r\n",
      "'bids_test5-20170120_anat-scout_run+_20170120084340_series001.json' satisfies no description - skipping\r\n",
      "'bids_test5-20170120_anat-scout_run+_20170120084340_series002.json' satisfies no description - skipping\r\n",
      "'bids_test5-20170120_anat-scout_run+_20170120084340_series002a.json' satisfies no description - skipping\r\n",
      "'bids_test5-20170120_anat-scout_run+_20170120084340_series002b.json' satisfies no description - skipping\r\n",
      "'bids_test5-20170120_anat-scout_run+_20170120084340_series002c.json' satisfies no description - skipping\r\n",
      "'bids_test5-20170120_anat-scout_run+_20170120084340_series003.json' satisfies no description - skipping\r\n",
      "'bids_test5-20170120_anat-scout_run+_20170120084340_series003a.json' satisfies no description - skipping\r\n",
      "'bids_test5-20170120_anat-scout_run+_20170120084340_series003b.json' satisfies no description - skipping\r\n",
      "'bids_test5-20170120_anat-scout_run+_20170120084340_series004.json' satisfies no description - skipping\r\n",
      "'bids_test5-20170120_anat-scout_run+_20170120084340_series004a.json' satisfies no description - skipping\r\n",
      "'bids_test5-20170120_anat-scout_run+_20170120084340_series004b.json' satisfies no description - skipping\r\n",
      "'bids_test5-20170120_anat_T1w_acq-MPRAGE_run+_20170120084340_series005.json' satisfies no description - skipping\r\n",
      "'bids_test5-20170120_fmap_acq-2.4mm_20170120084340_series006_e1.json' satisfies no description - skipping\r\n",
      "'bids_test5-20170120_fmap_acq-2.4mm_20170120084340_series006_e2.json' satisfies no description - skipping\r\n",
      "'bids_test5-20170120_fmap_acq-2.4mm_20170120084340_series007_e2_ph.json' satisfies no description - skipping\r\n",
      "'bids_test5-20170120_func_run+_task-rest_acq-2.4mm64sl1000tr32te600dyn_20170120084340_series009_e1.json' satisfies no description - skipping\r\n",
      "\r\n"
     ]
    }
   ],
   "source": [
    "# First test run of dcm2bids\n",
    "!dcm2bids -d bids_test5-20170120 -p 01 -c config.json -o output"
   ]
  },
  {
   "cell_type": "code",
   "execution_count": 9,
   "metadata": {
    "ExecuteTime": {
     "end_time": "2018-11-16T12:52:45.317996Z",
     "start_time": "2018-11-16T12:52:45.195771Z"
    },
    "scrolled": true,
    "slideshow": {
     "slide_type": "slide"
    }
   },
   "outputs": [
    {
     "name": "stdout",
     "output_type": "stream",
     "text": [
      "\u001b[01;34moutput\u001b[00m\r\n",
      "├── \u001b[01;32mdcm2bids.log\u001b[00m\r\n",
      "└── \u001b[01;34mtmp_dcm2bids\u001b[00m\r\n",
      "    └── \u001b[01;34msub-01\u001b[00m\r\n",
      "        ├── \u001b[01;32mbids_test5-20170120_anat-scout_run+_20170120084340_series001.json\u001b[00m\r\n",
      "        ├── \u001b[01;32mbids_test5-20170120_anat-scout_run+_20170120084340_series001.nii.gz\u001b[00m\r\n",
      "        ├── \u001b[01;32mbids_test5-20170120_anat-scout_run+_20170120084340_series002a.json\u001b[00m\r\n",
      "        ├── \u001b[01;32mbids_test5-20170120_anat-scout_run+_20170120084340_series002a.nii.gz\u001b[00m\r\n",
      "        ├── \u001b[01;32mbids_test5-20170120_anat-scout_run+_20170120084340_series002b.json\u001b[00m\r\n",
      "        ├── \u001b[01;32mbids_test5-20170120_anat-scout_run+_20170120084340_series002b.nii.gz\u001b[00m\r\n",
      "        ├── \u001b[01;32mbids_test5-20170120_anat-scout_run+_20170120084340_series002c.json\u001b[00m\r\n",
      "        ├── \u001b[01;32mbids_test5-20170120_anat-scout_run+_20170120084340_series002c.nii.gz\u001b[00m\r\n",
      "        ├── \u001b[01;32mbids_test5-20170120_anat-scout_run+_20170120084340_series002.json\u001b[00m\r\n",
      "        ├── \u001b[01;32mbids_test5-20170120_anat-scout_run+_20170120084340_series002.nii.gz\u001b[00m\r\n",
      "        ├── \u001b[01;32mbids_test5-20170120_anat-scout_run+_20170120084340_series003a.json\u001b[00m\r\n",
      "        ├── \u001b[01;32mbids_test5-20170120_anat-scout_run+_20170120084340_series003a.nii.gz\u001b[00m\r\n",
      "        ├── \u001b[01;32mbids_test5-20170120_anat-scout_run+_20170120084340_series003b.json\u001b[00m\r\n",
      "        ├── \u001b[01;32mbids_test5-20170120_anat-scout_run+_20170120084340_series003b.nii.gz\u001b[00m\r\n",
      "        ├── \u001b[01;32mbids_test5-20170120_anat-scout_run+_20170120084340_series003.json\u001b[00m\r\n",
      "        ├── \u001b[01;32mbids_test5-20170120_anat-scout_run+_20170120084340_series003.nii.gz\u001b[00m\r\n",
      "        ├── \u001b[01;32mbids_test5-20170120_anat-scout_run+_20170120084340_series004a.json\u001b[00m\r\n",
      "        ├── \u001b[01;32mbids_test5-20170120_anat-scout_run+_20170120084340_series004a.nii.gz\u001b[00m\r\n",
      "        ├── \u001b[01;32mbids_test5-20170120_anat-scout_run+_20170120084340_series004b.json\u001b[00m\r\n",
      "        ├── \u001b[01;32mbids_test5-20170120_anat-scout_run+_20170120084340_series004b.nii.gz\u001b[00m\r\n",
      "        ├── \u001b[01;32mbids_test5-20170120_anat-scout_run+_20170120084340_series004.json\u001b[00m\r\n",
      "        ├── \u001b[01;32mbids_test5-20170120_anat-scout_run+_20170120084340_series004.nii.gz\u001b[00m\r\n",
      "        ├── \u001b[01;32mbids_test5-20170120_anat_T1w_acq-MPRAGE_run+_20170120084340_series005.json\u001b[00m\r\n",
      "        ├── \u001b[01;32mbids_test5-20170120_anat_T1w_acq-MPRAGE_run+_20170120084340_series005.nii.gz\u001b[00m\r\n",
      "        ├── \u001b[01;32mbids_test5-20170120_fmap_acq-2.4mm_20170120084340_series006_e1.json\u001b[00m\r\n",
      "        ├── \u001b[01;32mbids_test5-20170120_fmap_acq-2.4mm_20170120084340_series006_e1.nii.gz\u001b[00m\r\n",
      "        ├── \u001b[01;32mbids_test5-20170120_fmap_acq-2.4mm_20170120084340_series006_e2.json\u001b[00m\r\n",
      "        ├── \u001b[01;32mbids_test5-20170120_fmap_acq-2.4mm_20170120084340_series006_e2.nii.gz\u001b[00m\r\n",
      "        ├── \u001b[01;32mbids_test5-20170120_fmap_acq-2.4mm_20170120084340_series007_e2_ph.json\u001b[00m\r\n",
      "        ├── \u001b[01;32mbids_test5-20170120_fmap_acq-2.4mm_20170120084340_series007_e2_ph.nii.gz\u001b[00m\r\n",
      "        ├── \u001b[01;32mbids_test5-20170120_func_run+_task-rest_acq-2.4mm64sl1000tr32te600dyn_20170120084340_series009_e1.json\u001b[00m\r\n",
      "        ├── \u001b[01;32mbids_test5-20170120_func_run+_task-rest_acq-2.4mm64sl1000tr32te600dyn_20170120084340_series009_e1.nii.gz\u001b[00m\r\n",
      "        └── \u001b[01;32mdcm2niix.log\u001b[00m\r\n",
      "\r\n",
      "2 directories, 34 files\r\n"
     ]
    }
   ],
   "source": [
    "# Unsurprisingly there's not much in the output dir\n",
    "# but NB the tmp_dcm2bids dir!\n",
    "!tree -C output"
   ]
  },
  {
   "cell_type": "code",
   "execution_count": 10,
   "metadata": {
    "ExecuteTime": {
     "end_time": "2018-11-16T12:52:45.438219Z",
     "start_time": "2018-11-16T12:52:45.320243Z"
    },
    "scrolled": true,
    "slideshow": {
     "slide_type": "slide"
    }
   },
   "outputs": [
    {
     "name": "stdout",
     "output_type": "stream",
     "text": [
      "{\r\n",
      "\t\"Modality\": \"MR\",\r\n",
      "\t\"MagneticFieldStrength\": 3,\r\n",
      "\t\"Manufacturer\": \"Siemens\",\r\n",
      "\t\"ManufacturersModelName\": \"Prisma\",\r\n",
      "\t\"InstitutionName\": \"Dartmouth_College_-_PBS\",\r\n",
      "\t\"InstitutionalDepartmentName\": \"Department\",\r\n",
      "\t\"InstitutionAddress\": \"Maynard_3_Hanover_NH_US_03755\",\r\n",
      "\t\"DeviceSerialNumber\": \"66112\",\r\n",
      "\t\"StationName\": \"AWP66112\",\r\n",
      "\t\"BodyPartExamined\": \"BRAIN\",\r\n",
      "\t\"PatientPosition\": \"HFS\",\r\n",
      "\t\"ProcedureStepDescription\": \"Heatherton_Stanger_1004_ontrack\",\r\n",
      "\t\"SoftwareVersions\": \"syngo_MR_E11\",\r\n",
      "\t\"MRAcquisitionType\": \"3D\",\r\n",
      "\t\"SeriesDescription\": \"anat_T1w_acq-MPRAGE_run+\",\r\n",
      "\t\"ProtocolName\": \"anat_T1w_acq-MPRAGE_run+\",\r\n",
      "\t\"ScanningSequence\": \"GR_IR\",\r\n",
      "\t\"SequenceVariant\": \"SK_SP_MP\",\r\n",
      "\t\"ScanOptions\": \"IR\",\r\n",
      "\t\"SequenceName\": \"_tfl3d1_16ns\",\r\n",
      "\t\"ImageType\": [\"ORIGINAL\", \"PRIMARY\", \"M\", \"ND\", \"NORM\"],\r\n",
      "\t\"SeriesNumber\": 5,\r\n",
      "\t\"AcquisitionTime\": \"08:44:38.722500\",\r\n",
      "\t\"AcquisitionNumber\": 1,\r\n",
      "\t\"SliceThickness\": 0.9,\r\n",
      "\t\"SAR\": 0.0381398,\r\n",
      "\t\"EchoTime\": 0.00232,\r\n",
      "\t\"RepetitionTime\": 2.3,\r\n",
      "\t\"InversionTime\": 0.933,\r\n",
      "\t\"FlipAngle\": 8,\r\n",
      "\t\"PartialFourier\": 1,\r\n",
      "\t\"BaseResolution\": 256,\r\n",
      "\t\"ShimSetting\": [\r\n",
      "\t\t4153,\r\n",
      "\t\t-7690,\r\n",
      "\t\t-7492,\r\n",
      "\t\t214,\r\n",
      "\t\t-60,\r\n",
      "\t\t-87,\r\n",
      "\t\t-47,\r\n",
      "\t\t60\t],\r\n",
      "\t\"TxRefAmp\": 243.108,\r\n",
      "\t\"PhaseResolution\": 1,\r\n",
      "\t\"ReceiveCoilName\": \"Head_32\",\r\n",
      "\t\"ReceiveCoilActiveElements\": \"HEA;HEP\",\r\n",
      "\t\"PulseSequenceDetails\": \"%SiemensSeq%_tfl\",\r\n",
      "\t\"ConsistencyInfo\": \"N4_VE11C_LATEST_20160120\",\r\n",
      "\t\"PercentPhaseFOV\": 100,\r\n",
      "\t\"PhaseEncodingSteps\": 255,\r\n",
      "\t\"AcquisitionMatrixPE\": 256,\r\n",
      "\t\"ReconMatrixPE\": 256,\r\n",
      "\t\"ParallelReductionFactorInPlane\": 2,\r\n",
      "\t\"PixelBandwidth\": 200,\r\n",
      "\t\"DwellTime\": 9.8e-06,\r\n",
      "\t\"ImageOrientationPatientDICOM\": [\r\n",
      "\t\t-0.134494,\r\n",
      "\t\t0.83214,\r\n",
      "\t\t0.53801,\r\n",
      "\t\t-0.074468,\r\n",
      "\t\t0.53292,\r\n",
      "\t\t-0.842883\t],\r\n",
      "\t\"InPlanePhaseEncodingDirectionDICOM\": \"ROW\",\r\n",
      "\t\"ConversionSoftware\": \"dcm2niix\",\r\n",
      "\t\"ConversionSoftwareVersion\": \"v1.0.20180622 GCC4.8.2\"\r\n",
      "}\r\n"
     ]
    }
   ],
   "source": [
    "# so the trick is to extend the config json to unambiguously identify our target\n",
    "# acquisitions. Let's start with the t1. What's in the sidecar?\n",
    "!cat output/tmp_dcm2bids/sub-01/bids_test5-20170120_anat_T1w_acq-MPRAGE_run+_20170120084340_series005.json"
   ]
  },
  {
   "cell_type": "code",
   "execution_count": 11,
   "metadata": {
    "ExecuteTime": {
     "end_time": "2018-11-16T12:52:45.582107Z",
     "start_time": "2018-11-16T12:52:45.440703Z"
    },
    "slideshow": {
     "slide_type": "slide"
    }
   },
   "outputs": [
    {
     "name": "stdout",
     "output_type": "stream",
     "text": [
      "{\r\n",
      "    \"descriptions\": [\r\n",
      "        {\r\n",
      "            \"dataType\": \"anat\",\r\n",
      "            \"suffix\": \"T1w\",\r\n",
      "            \"criteria\": {\r\n",
      "                \"in\": {\r\n",
      "                    \"SeriesDescription\": \"anat_T1w_acq-MPRAGE_run\"\r\n",
      "                }\r\n",
      "            }\r\n",
      "        }\r\n",
      "    ]\r\n",
      "}"
     ]
    }
   ],
   "source": [
    "# so our first description might be\n",
    "config[\"descriptions\"] = []\n",
    "config[\"descriptions\"].append({\"dataType\": \"anat\", \n",
    "                               \"suffix\": \"T1w\",\n",
    "                               \"criteria\": {\n",
    "                                   \"in\": {\n",
    "                                       \"SeriesDescription\": \n",
    "                                       \"anat_T1w_acq-MPRAGE_run\"\n",
    "                                   }\n",
    "                                   }\n",
    "                               })\n",
    "# save and print the config again\n",
    "writeconfig(config)\n",
    "!cat config.json"
   ]
  },
  {
   "cell_type": "code",
   "execution_count": 12,
   "metadata": {
    "ExecuteTime": {
     "end_time": "2018-11-16T12:52:51.338064Z",
     "start_time": "2018-11-16T12:52:45.583943Z"
    },
    "scrolled": true,
    "slideshow": {
     "slide_type": "slide"
    }
   },
   "outputs": [
    {
     "name": "stdout",
     "output_type": "stream",
     "text": [
      "\r\n",
      "'bids_test5-20170120_anat-scout_run+_20170120084340_series001.json' satisfies no description - skipping\r\n",
      "'bids_test5-20170120_anat-scout_run+_20170120084340_series002.json' satisfies no description - skipping\r\n",
      "'bids_test5-20170120_anat-scout_run+_20170120084340_series002a.json' satisfies no description - skipping\r\n",
      "'bids_test5-20170120_anat-scout_run+_20170120084340_series002b.json' satisfies no description - skipping\r\n",
      "'bids_test5-20170120_anat-scout_run+_20170120084340_series002c.json' satisfies no description - skipping\r\n",
      "'bids_test5-20170120_anat-scout_run+_20170120084340_series003.json' satisfies no description - skipping\r\n",
      "'bids_test5-20170120_anat-scout_run+_20170120084340_series003a.json' satisfies no description - skipping\r\n",
      "'bids_test5-20170120_anat-scout_run+_20170120084340_series003b.json' satisfies no description - skipping\r\n",
      "'bids_test5-20170120_anat-scout_run+_20170120084340_series004.json' satisfies no description - skipping\r\n",
      "'bids_test5-20170120_anat-scout_run+_20170120084340_series004a.json' satisfies no description - skipping\r\n",
      "'bids_test5-20170120_anat-scout_run+_20170120084340_series004b.json' satisfies no description - skipping\r\n",
      "'bids_test5-20170120_anat_T1w_acq-MPRAGE_run+_20170120084340_series005.json' satisfies one description\r\n",
      "'bids_test5-20170120_fmap_acq-2.4mm_20170120084340_series006_e1.json' satisfies no description - skipping\r\n",
      "'bids_test5-20170120_fmap_acq-2.4mm_20170120084340_series006_e2.json' satisfies no description - skipping\r\n",
      "'bids_test5-20170120_fmap_acq-2.4mm_20170120084340_series007_e2_ph.json' satisfies no description - skipping\r\n",
      "'bids_test5-20170120_func_run+_task-rest_acq-2.4mm64sl1000tr32te600dyn_20170120084340_series009_e1.json' satisfies no description - skipping\r\n",
      "\r\n"
     ]
    }
   ],
   "source": [
    "# take 2 - do we recognise the t1?\n",
    "!dcm2bids -d bids_test5-20170120 -p 01 -c config.json -o output"
   ]
  },
  {
   "cell_type": "code",
   "execution_count": 13,
   "metadata": {
    "ExecuteTime": {
     "end_time": "2018-11-16T12:52:51.459643Z",
     "start_time": "2018-11-16T12:52:51.339775Z"
    },
    "scrolled": false,
    "slideshow": {
     "slide_type": "slide"
    }
   },
   "outputs": [
    {
     "name": "stdout",
     "output_type": "stream",
     "text": [
      "\u001b[01;34moutput\u001b[00m\r\n",
      "├── \u001b[01;32mCHANGES\u001b[00m\r\n",
      "├── \u001b[01;32mdataset_description.json\u001b[00m\r\n",
      "├── \u001b[01;32mdcm2bids.log\u001b[00m\r\n",
      "├── \u001b[01;34mderivatives\u001b[00m\r\n",
      "├── \u001b[01;32mparticipants.tsv\u001b[00m\r\n",
      "├── \u001b[01;32mREADME\u001b[00m\r\n",
      "└── \u001b[01;34msub-01\u001b[00m\r\n",
      "    └── \u001b[01;34manat\u001b[00m\r\n",
      "        ├── \u001b[01;32msub-01_T1w.json\u001b[00m\r\n",
      "        └── \u001b[01;32msub-01_T1w.nii.gz\u001b[00m\r\n",
      "\r\n",
      "3 directories, 7 files\r\n"
     ]
    }
   ],
   "source": [
    "# now the output dir looks more interesting\n",
    "!tree -C -I tmp_dcm2bids output"
   ]
  },
  {
   "cell_type": "code",
   "execution_count": 14,
   "metadata": {
    "ExecuteTime": {
     "end_time": "2018-11-16T12:52:51.580080Z",
     "start_time": "2018-11-16T12:52:51.462288Z"
    },
    "slideshow": {
     "slide_type": "slide"
    }
   },
   "outputs": [
    {
     "name": "stdout",
     "output_type": "stream",
     "text": [
      "{\r\n",
      "    \"Name\": \"\",\r\n",
      "    \"BIDSVersion\": \"1.1.0\",\r\n",
      "    \"License\": \"\",\r\n",
      "    \"Authors\": [\r\n",
      "        \"\"\r\n",
      "    ],\r\n",
      "    \"Acknowledgments\": \"\",\r\n",
      "    \"HowToAcknowledge\": \"\",\r\n",
      "    \"Funding\": \"\",\r\n",
      "    \"ReferencesAndLinks\": [\r\n",
      "        \"\"\r\n",
      "    ],\r\n",
      "    \"DatasetDOI\": \"\"\r\n",
      "}"
     ]
    }
   ],
   "source": [
    "# some of the required BIDS project root files have been initialised, e.g.\n",
    "!cat output/dataset_description.json"
   ]
  },
  {
   "cell_type": "markdown",
   "metadata": {
    "slideshow": {
     "slide_type": "slide"
    }
   },
   "source": [
    "# Scaling up to a complete dcm2bids conversion"
   ]
  },
  {
   "cell_type": "code",
   "execution_count": 15,
   "metadata": {
    "ExecuteTime": {
     "end_time": "2018-11-16T12:52:51.590699Z",
     "start_time": "2018-11-16T12:52:51.582161Z"
    },
    "slideshow": {
     "slide_type": "skip"
    }
   },
   "outputs": [],
   "source": [
    "# house keeping\n",
    "del config[\"descriptions\"][1:]\n",
    "# we need a task for valid BIDS - \"rest\" is handy because it means we are exempt from\n",
    "# needing the events.tsv file (phantoms are at rest by definition, right?)\n",
    "config[\"descriptions\"].append({\"dataType\": \"func\", \n",
    "                               \"suffix\": \"bold\",\n",
    "                               \"criteria\": {\n",
    "                                   \"in\": {\n",
    "                                       \"PulseSequenceDetails\": \"bold\"\n",
    "                                   }\n",
    "                                   },\n",
    "                               \"customHeader\": {\"TaskName\": \"rest\"}\n",
    "                               })\n",
    "# unfortunately no real way to distinguish the fieldmap magnitude images without\n",
    "# matching on the echo times\n",
    "echo1 = 0.00492\n",
    "echo2 = 0.00738\n",
    "config[\"descriptions\"].append({\"dataType\": \"fmap\", \n",
    "                               \"suffix\": \"magnitude1\",\n",
    "                               \"criteria\": {\n",
    "                                   \"in\": {\n",
    "                                       \"PulseSequenceDetails\": \"field_mapping\"\n",
    "                                   },\n",
    "                                   \"equal\": {\n",
    "                                       \"ImageType\":\n",
    "                                       [\"ORIGINAL\", \"PRIMARY\", \"M\", \"ND\", \"NORM\"],\n",
    "                                       \"EchoTime\": echo1\n",
    "                                   }\n",
    "                                   }\n",
    "                               })\n",
    "config[\"descriptions\"].append({\"dataType\": \"fmap\", \n",
    "                               \"suffix\": \"magnitude2\",\n",
    "                               \"criteria\": {\n",
    "                                   \"in\": {\n",
    "                                       \"PulseSequenceDetails\": \"field_mapping\"\n",
    "                                   },\n",
    "                                   \"equal\": {\n",
    "                                       \"ImageType\":\n",
    "                                       [\"ORIGINAL\", \"PRIMARY\", \"M\", \"ND\", \"NORM\"],\n",
    "                                       \"EchoNumber\": 2,\n",
    "                                       \"EchoTime\": echo2\n",
    "                                   }\n",
    "                                   }\n",
    "                               })\n",
    "# need to intervene here to set EchoTime1 and EchoTime2 since it's a phase difference\n",
    "# image (see https://github.com/rordenlab/dcm2niix/issues/139)\n",
    "config[\"descriptions\"].append({\"dataType\": \"fmap\", \n",
    "                               \"suffix\": \"phasediff\",\n",
    "                               \"criteria\": {\n",
    "                                   \"in\": {\n",
    "                                       \"PulseSequenceDetails\": \"field_mapping\"\n",
    "                                   },\n",
    "                                   \"equal\": {\n",
    "                                       \"ImageType\": [\"ORIGINAL\", \"PRIMARY\", \"P\", \"ND\"]\n",
    "                                   }\n",
    "                                   },\n",
    "                               \"customHeader\": {\n",
    "                                   \"EchoTime1\": echo1,\n",
    "                                   \"EchoTime2\": echo2\n",
    "                               }\n",
    "                               })\n",
    "writeconfig(config, filename=\"config_complete.json\")"
   ]
  },
  {
   "cell_type": "code",
   "execution_count": 16,
   "metadata": {
    "ExecuteTime": {
     "end_time": "2018-11-16T12:52:51.716507Z",
     "start_time": "2018-11-16T12:52:51.592154Z"
    },
    "slideshow": {
     "slide_type": "fragment"
    }
   },
   "outputs": [
    {
     "name": "stdout",
     "output_type": "stream",
     "text": [
      "{\r\n",
      "    \"descriptions\": [\r\n",
      "        {\r\n",
      "            \"dataType\": \"anat\",\r\n",
      "            \"suffix\": \"T1w\",\r\n",
      "            \"criteria\": {\r\n",
      "                \"in\": {\r\n",
      "                    \"SeriesDescription\": \"anat_T1w_acq-MPRAGE_run\"\r\n",
      "                }\r\n",
      "            }\r\n",
      "        },\r\n",
      "        {\r\n",
      "            \"dataType\": \"func\",\r\n",
      "            \"suffix\": \"bold\",\r\n",
      "            \"criteria\": {\r\n",
      "                \"in\": {\r\n",
      "                    \"PulseSequenceDetails\": \"bold\"\r\n",
      "                }\r\n",
      "            },\r\n",
      "            \"customHeader\": {\r\n",
      "                \"TaskName\": \"rest\"\r\n",
      "            }\r\n",
      "        },\r\n",
      "        {\r\n",
      "            \"dataType\": \"fmap\",\r\n",
      "            \"suffix\": \"magnitude1\",\r\n",
      "            \"criteria\": {\r\n",
      "                \"in\": {\r\n",
      "                    \"PulseSequenceDetails\": \"field_mapping\"\r\n",
      "                },\r\n",
      "                \"equal\": {\r\n",
      "                    \"ImageType\": [\r\n",
      "                        \"ORIGINAL\",\r\n",
      "                        \"PRIMARY\",\r\n",
      "                        \"M\",\r\n",
      "                        \"ND\",\r\n",
      "                        \"NORM\"\r\n",
      "                    ],\r\n",
      "                    \"EchoTime\": 0.00492\r\n",
      "                }\r\n",
      "            }\r\n",
      "        },\r\n",
      "        {\r\n",
      "            \"dataType\": \"fmap\",\r\n",
      "            \"suffix\": \"magnitude2\",\r\n",
      "            \"criteria\": {\r\n",
      "                \"in\": {\r\n",
      "                    \"PulseSequenceDetails\": \"field_mapping\"\r\n",
      "                },\r\n",
      "                \"equal\": {\r\n",
      "                    \"ImageType\": [\r\n",
      "                        \"ORIGINAL\",\r\n",
      "                        \"PRIMARY\",\r\n",
      "                        \"M\",\r\n",
      "                        \"ND\",\r\n",
      "                        \"NORM\"\r\n",
      "                    ],\r\n",
      "                    \"EchoNumber\": 2,\r\n",
      "                    \"EchoTime\": 0.00738\r\n",
      "                }\r\n",
      "            }\r\n",
      "        },\r\n",
      "        {\r\n",
      "            \"dataType\": \"fmap\",\r\n",
      "            \"suffix\": \"phasediff\",\r\n",
      "            \"criteria\": {\r\n",
      "                \"in\": {\r\n",
      "                    \"PulseSequenceDetails\": \"field_mapping\"\r\n",
      "                },\r\n",
      "                \"equal\": {\r\n",
      "                    \"ImageType\": [\r\n",
      "                        \"ORIGINAL\",\r\n",
      "                        \"PRIMARY\",\r\n",
      "                        \"P\",\r\n",
      "                        \"ND\"\r\n",
      "                    ]\r\n",
      "                }\r\n",
      "            },\r\n",
      "            \"customHeader\": {\r\n",
      "                \"EchoTime1\": 0.00492,\r\n",
      "                \"EchoTime2\": 0.00738\r\n",
      "            }\r\n",
      "        }\r\n",
      "    ]\r\n",
      "}"
     ]
    }
   ],
   "source": [
    "# here's one I made earlier...\n",
    "!cat config_complete.json"
   ]
  },
  {
   "cell_type": "code",
   "execution_count": 17,
   "metadata": {
    "ExecuteTime": {
     "end_time": "2018-11-16T12:52:57.557698Z",
     "start_time": "2018-11-16T12:52:51.718441Z"
    },
    "scrolled": true,
    "slideshow": {
     "slide_type": "slide"
    }
   },
   "outputs": [
    {
     "name": "stdout",
     "output_type": "stream",
     "text": [
      "\r\n",
      "'bids_test5-20170120_anat-scout_run+_20170120084340_series001.json' satisfies no description - skipping\r\n",
      "'bids_test5-20170120_anat-scout_run+_20170120084340_series002.json' satisfies no description - skipping\r\n",
      "'bids_test5-20170120_anat-scout_run+_20170120084340_series002a.json' satisfies no description - skipping\r\n",
      "'bids_test5-20170120_anat-scout_run+_20170120084340_series002b.json' satisfies no description - skipping\r\n",
      "'bids_test5-20170120_anat-scout_run+_20170120084340_series002c.json' satisfies no description - skipping\r\n",
      "'bids_test5-20170120_anat-scout_run+_20170120084340_series003.json' satisfies no description - skipping\r\n",
      "'bids_test5-20170120_anat-scout_run+_20170120084340_series003a.json' satisfies no description - skipping\r\n",
      "'bids_test5-20170120_anat-scout_run+_20170120084340_series003b.json' satisfies no description - skipping\r\n",
      "'bids_test5-20170120_anat-scout_run+_20170120084340_series004.json' satisfies no description - skipping\r\n",
      "'bids_test5-20170120_anat-scout_run+_20170120084340_series004a.json' satisfies no description - skipping\r\n",
      "'bids_test5-20170120_anat-scout_run+_20170120084340_series004b.json' satisfies no description - skipping\r\n",
      "'bids_test5-20170120_anat_T1w_acq-MPRAGE_run+_20170120084340_series005.json' satisfies one description\r\n",
      "'bids_test5-20170120_fmap_acq-2.4mm_20170120084340_series006_e1.json' satisfies one description\r\n",
      "'bids_test5-20170120_fmap_acq-2.4mm_20170120084340_series006_e2.json' satisfies one description\r\n",
      "'bids_test5-20170120_fmap_acq-2.4mm_20170120084340_series007_e2_ph.json' satisfies one description\r\n",
      "'bids_test5-20170120_func_run+_task-rest_acq-2.4mm64sl1000tr32te600dyn_20170120084340_series009_e1.json' satisfies one description\r\n",
      "\r\n"
     ]
    }
   ],
   "source": [
    "# take 3 - do we now recognise all the series we want to convert?\n",
    "shutil.rmtree(\"output\", ignore_errors=True)\n",
    "!dcm2bids -d bids_test5-20170120 -p 01 -c config_complete.json -o output"
   ]
  },
  {
   "cell_type": "code",
   "execution_count": 18,
   "metadata": {
    "ExecuteTime": {
     "end_time": "2018-11-16T12:52:57.680707Z",
     "start_time": "2018-11-16T12:52:57.562109Z"
    },
    "cell_style": "center",
    "slideshow": {
     "slide_type": "slide"
    }
   },
   "outputs": [
    {
     "name": "stdout",
     "output_type": "stream",
     "text": [
      "\u001b[01;34moutput\u001b[00m\r\n",
      "├── \u001b[01;32mCHANGES\u001b[00m\r\n",
      "├── \u001b[01;32mdataset_description.json\u001b[00m\r\n",
      "├── \u001b[01;32mdcm2bids.log\u001b[00m\r\n",
      "├── \u001b[01;34mderivatives\u001b[00m\r\n",
      "├── \u001b[01;32mparticipants.tsv\u001b[00m\r\n",
      "├── \u001b[01;32mREADME\u001b[00m\r\n",
      "└── \u001b[01;34msub-01\u001b[00m\r\n",
      "    ├── \u001b[01;34manat\u001b[00m\r\n",
      "    │   ├── \u001b[01;32msub-01_T1w.json\u001b[00m\r\n",
      "    │   └── \u001b[01;32msub-01_T1w.nii.gz\u001b[00m\r\n",
      "    ├── \u001b[01;34mfmap\u001b[00m\r\n",
      "    │   ├── \u001b[01;32msub-01_magnitude1.json\u001b[00m\r\n",
      "    │   ├── \u001b[01;32msub-01_magnitude1.nii.gz\u001b[00m\r\n",
      "    │   ├── \u001b[01;32msub-01_magnitude2.json\u001b[00m\r\n",
      "    │   ├── \u001b[01;32msub-01_magnitude2.nii.gz\u001b[00m\r\n",
      "    │   ├── \u001b[01;32msub-01_phasediff.json\u001b[00m\r\n",
      "    │   └── \u001b[01;32msub-01_phasediff.nii.gz\u001b[00m\r\n",
      "    └── \u001b[01;34mfunc\u001b[00m\r\n",
      "        ├── \u001b[01;32msub-01_task-rest_bold.json\u001b[00m\r\n",
      "        └── \u001b[01;32msub-01_task-rest_bold.nii.gz\u001b[00m\r\n",
      "\r\n",
      "5 directories, 15 files\r\n"
     ]
    }
   ],
   "source": [
    "# the output directory looks fairly complete\n",
    "!tree -C -I tmp_dcm2bids output"
   ]
  },
  {
   "cell_type": "markdown",
   "metadata": {
    "slideshow": {
     "slide_type": "slide"
    }
   },
   "source": [
    "# Checking conversions with bids-validator\n",
    "Also available as a handy web app"
   ]
  },
  {
   "cell_type": "code",
   "execution_count": 21,
   "metadata": {
    "ExecuteTime": {
     "end_time": "2018-11-16T12:56:17.791928Z",
     "start_time": "2018-11-16T12:56:17.201782Z"
    },
    "slideshow": {
     "slide_type": "fragment"
    }
   },
   "outputs": [
    {
     "name": "stdout",
     "output_type": "stream",
     "text": [
      "\t\u001b[31m1: Participants and phenotype .tsv files must have a 'participant_id' column. (code: 48 - PARTICIPANT_ID_COLUMN)\u001b[39m\r\n",
      "\t\t./participants.tsv\r\n",
      "\t\t\t@ line: 1\r\n",
      "\t\t\tEvidence: participant_id\r",
      "\r\n",
      "\r\n",
      "        \u001b[34m\u001b[4mSummary:\u001b[24m\u001b[39m                 \u001b[34m\u001b[4mAvailable Tasks:\u001b[24m\u001b[39m        \u001b[34m\u001b[4mAvailable Modalities:\u001b[24m\u001b[39m \r\n",
      "        14 Files, 19.21MB        rest                    T1w                   \r\n",
      "        1 - Subject                                      bold                  \r\n",
      "        1 - Session                                      fieldmap              \r\n",
      "\r\n"
     ]
    }
   ],
   "source": [
    "# NB you would still need to add some more info manually in e.g. study_description.json\n",
    "!bids-validator output"
   ]
  },
  {
   "cell_type": "markdown",
   "metadata": {
    "slideshow": {
     "slide_type": "slide"
    }
   },
   "source": [
    "# Resources\n",
    "\n",
    "* [The BIDS starter kit](https://github.com/bids-standard/bids-starter-kit) - wiki with links to various resources\n",
    "* [The official BIDS website](http://bids.neuroimaging.io/) - the official BIDS specification is surprisingly readable\n",
    "* [Michael Notter's Nipype tutorial](https://github.com/miykael/nipype_tutorial) - great interactive tutorials on working with BIDS data in Python\n",
    "* [BIDS-Validator web app](https://bids-standard.github.io/bids-validator/) - convenient way to check BIDS conversions\n",
    "* [dcm2bids (jooh fork)](https://github.com/jooh/Dcm2Bids) - run the conversion code presented here"
   ]
  },
  {
   "cell_type": "markdown",
   "metadata": {
    "slideshow": {
     "slide_type": "slide"
    }
   },
   "source": [
    " "
   ]
  },
  {
   "cell_type": "code",
   "execution_count": 20,
   "metadata": {
    "ExecuteTime": {
     "end_time": "2018-11-16T12:53:18.663240Z",
     "start_time": "2018-11-16T12:53:18.544080Z"
    }
   },
   "outputs": [
    {
     "name": "stdout",
     "output_type": "stream",
     "text": [
      "participant_id\r",
      "\r\n",
      "sub-01\r",
      "\r\n"
     ]
    }
   ],
   "source": [
    "!cat output/participants.tsv"
   ]
  }
 ],
 "metadata": {
  "celltoolbar": "Slideshow",
  "kernelspec": {
   "display_name": "Python 3",
   "language": "python",
   "name": "python3"
  },
  "language_info": {
   "codemirror_mode": {
    "name": "ipython",
    "version": 3
   },
   "file_extension": ".py",
   "mimetype": "text/x-python",
   "name": "python",
   "nbconvert_exporter": "python",
   "pygments_lexer": "ipython3",
   "version": "3.6.5"
  },
  "rise": {
   "controls": false,
   "scroll": true
  },
  "varInspector": {
   "cols": {
    "lenName": 16,
    "lenType": 16,
    "lenVar": 40
   },
   "kernels_config": {
    "python": {
     "delete_cmd_postfix": "",
     "delete_cmd_prefix": "del ",
     "library": "var_list.py",
     "varRefreshCmd": "print(var_dic_list())"
    },
    "r": {
     "delete_cmd_postfix": ") ",
     "delete_cmd_prefix": "rm(",
     "library": "var_list.r",
     "varRefreshCmd": "cat(var_dic_list()) "
    }
   },
   "types_to_exclude": [
    "module",
    "function",
    "builtin_function_or_method",
    "instance",
    "_Feature"
   ],
   "window_display": false
  }
 },
 "nbformat": 4,
 "nbformat_minor": 2
}
