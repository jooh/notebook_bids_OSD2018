{
 "cells": [
  {
   "cell_type": "code",
   "execution_count": 4,
   "metadata": {
    "ExecuteTime": {
     "end_time": "2021-02-05T15:44:35.490073Z",
     "start_time": "2021-02-05T15:44:33.004033Z"
    },
    "init_cell": true,
    "scrolled": true,
    "slideshow": {
     "slide_type": "skip"
    }
   },
   "outputs": [
    {
     "name": "stdout",
     "output_type": "stream",
     "text": [
      "\u001b[1;1mdrop\u001b[0m(\u001b[1;31merror\u001b[0m): /home/jc01/python/notebook_bids_OSD2018/ds000114/derivatives/* (\u001b[1;35mfile\u001b[0m) [not found]\n",
      "[INFO   ] Installing Dataset(/home/jc01/python/notebook_bids_OSD2018) to get /home/jc01/python/notebook_bids_OSD2018/ds000114 recursively \n",
      "                                               \r"
     ]
    }
   ],
   "source": [
    "# preliminary stuff - get demo BIDS dataset\n",
    "!datalad install ///workshops/nipype-2017/ds000114\n",
    "!datalad remove ds000114/derivatives/*\n",
    "!datalad get -r ds000114\n",
    "# also double up import to avoid ugly warnings printing during slideshow\n",
    "from bids.layout import BIDSLayout\n",
    "import os.path\n",
    "import shutil\n",
    "# house keeping\n",
    "if os.path.exists(\"output\"):\n",
    "    shutil.rmtree(\"output\", ignore_errors=True)"
   ]
  },
  {
   "cell_type": "code",
   "execution_count": 5,
   "metadata": {
    "ExecuteTime": {
     "end_time": "2021-02-05T15:44:36.280275Z",
     "start_time": "2021-02-05T15:44:35.492498Z"
    },
    "init_cell": true,
    "slideshow": {
     "slide_type": "skip"
    }
   },
   "outputs": [],
   "source": [
    "# and demo dicoms for dcm2bids\n",
    "!datalad install -g ///dicoms/dartmouth-phantoms/bids_test5-20170120"
   ]
  },
  {
   "cell_type": "code",
   "execution_count": 6,
   "metadata": {
    "ExecuteTime": {
     "end_time": "2021-02-05T15:44:36.302445Z",
     "start_time": "2021-02-05T15:44:36.283076Z"
    },
    "init_cell": true,
    "slideshow": {
     "slide_type": "skip"
    }
   },
   "outputs": [],
   "source": [
    "import json\n",
    "def writeconfig(config, filename=\"config.json\"):\n",
    "    with open(filename, \"w\") as fp:\n",
    "        json.dump(config, fp, indent=4)\n",
    "\n",
    "config = dict(descriptions=[])\n",
    "config[\"descriptions\"].append({\"dataType\": \"anat\", \n",
    "                               \"suffix\": \"T1w\",\n",
    "                               \"criteria\": {\n",
    "                                   \"in\": {\n",
    "                                       \"SeriesDescription\": \n",
    "                                       \"anat_T1w_acq-MPRAGE_run\"\n",
    "                                   }\n",
    "                                   }\n",
    "                               })\n",
    "# we need a task for valid BIDS - \"rest\" is handy because it means we are exempt from\n",
    "# needing the events.tsv file (phantoms are at rest by definition, right?)\n",
    "config[\"descriptions\"].append({\"dataType\": \"func\", \n",
    "                               \"suffix\": \"bold\",\n",
    "                               \"criteria\": {\n",
    "                                   \"in\": {\n",
    "                                       \"PulseSequenceDetails\": \"bold\"\n",
    "                                   }\n",
    "                                   },\n",
    "                               \"customHeader\": {\"TaskName\": \"rest\"}\n",
    "                               })\n",
    "# unfortunately no real way to distinguish the fieldmap magnitude images without\n",
    "# matching on the echo times\n",
    "echo1 = 0.00492\n",
    "echo2 = 0.00738\n",
    "config[\"descriptions\"].append({\"dataType\": \"fmap\", \n",
    "                               \"suffix\": \"magnitude1\",\n",
    "                               \"criteria\": {\n",
    "                                   \"in\": {\n",
    "                                       \"PulseSequenceDetails\": \"field_mapping\"\n",
    "                                   },\n",
    "                                   \"equal\": {\n",
    "                                       \"ImageType\":\n",
    "                                       [\"ORIGINAL\", \"PRIMARY\", \"M\", \"ND\", \"NORM\"],\n",
    "                                       \"EchoTime\": echo1\n",
    "                                   }\n",
    "                                   }\n",
    "                               })\n",
    "config[\"descriptions\"].append({\"dataType\": \"fmap\", \n",
    "                               \"suffix\": \"magnitude2\",\n",
    "                               \"criteria\": {\n",
    "                                   \"in\": {\n",
    "                                       \"PulseSequenceDetails\": \"field_mapping\"\n",
    "                                   },\n",
    "                                   \"equal\": {\n",
    "                                       \"ImageType\":\n",
    "                                       [\"ORIGINAL\", \"PRIMARY\", \"M\", \"ND\", \"NORM\"],\n",
    "                                       \"EchoNumber\": 2,\n",
    "                                       \"EchoTime\": echo2\n",
    "                                   }\n",
    "                                   }\n",
    "                               })\n",
    "# need to intervene here to set EchoTime1 and EchoTime2 since it's a phase difference\n",
    "# image (see https://github.com/rordenlab/dcm2niix/issues/139)\n",
    "config[\"descriptions\"].append({\"dataType\": \"fmap\", \n",
    "                               \"suffix\": \"phasediff\",\n",
    "                               \"criteria\": {\n",
    "                                   \"in\": {\n",
    "                                       \"PulseSequenceDetails\": \"field_mapping\"\n",
    "                                   },\n",
    "                                   \"equal\": {\n",
    "                                       \"ImageType\": [\"ORIGINAL\", \"PRIMARY\", \"P\", \"ND\"]\n",
    "                                   }\n",
    "                                   },\n",
    "                               \"customHeader\": {\n",
    "                                   \"EchoTime1\": echo1,\n",
    "                                   \"EchoTime2\": echo2\n",
    "                               }\n",
    "                               })\n",
    "writeconfig(config, filename=\"config_complete.json\")"
   ]
  },
  {
   "cell_type": "markdown",
   "metadata": {
    "slideshow": {
     "slide_type": "slide"
    }
   },
   "source": [
    "# <center>Brain Imaging Data Structure (BIDS): A standard format for neuroscience data</center>\n",
    "<p><center>Johan Carlin</center></p>\n",
    "<p><center><a href=\"https://github.com/jooh/notebook_bids_OSD2018\">github.com/jooh/notebook_bids_OSD2018</a></center></p>\n",
    "<p><center><a href=\"https://mybinder.org/v2/gh/jooh/notebook_bids_OSD2018/master?filepath=os2018_bids.ipynb\"><img src=\"https://mybinder.org/badge_logo.svg\"></center></p>\n",
    "<p><center><img src=\"MRC_CBU_Cambridge_colour_web_A5.png\"></center></p>"
   ]
  },
  {
   "cell_type": "markdown",
   "metadata": {
    "cell_style": "split",
    "slideshow": {
     "slide_type": "slide"
    }
   },
   "source": [
    "## In BIDS 1.1.1\n",
    "* MRI - anatomical, functional, diffusion, field maps…\n",
    "* MEG\n",
    "* Physiological recordings\n",
    "* Behavioural data"
   ]
  },
  {
   "cell_type": "markdown",
   "metadata": {
    "cell_style": "split",
    "slideshow": {
     "slide_type": "fragment"
    }
   },
   "source": [
    "## Draft extensions\n",
    "* Model specification\n",
    "* Derivatives - structural, functional, resting state, diffusion…\n",
    "* New modalities - EEG, PET, ASL, Eye tracking, intracranial EEG"
   ]
  },
  {
   "cell_type": "markdown",
   "metadata": {
    "slideshow": {
     "slide_type": "slide"
    }
   },
   "source": [
    "# MRI example"
   ]
  },
  {
   "cell_type": "code",
   "execution_count": 7,
   "metadata": {
    "ExecuteTime": {
     "end_time": "2021-02-05T15:44:36.425346Z",
     "start_time": "2021-02-05T15:44:36.306463Z"
    },
    "cell_style": "split",
    "slideshow": {
     "slide_type": "fragment"
    }
   },
   "outputs": [
    {
     "name": "stdout",
     "output_type": "stream",
     "text": [
      "\u001b[01;34mds000114\u001b[00m\r\n",
      "├── dataset_description.json\r\n",
      "├── dwi.bval\r\n",
      "├── dwi.bvec\r\n",
      "├── \u001b[01;34msub-01\u001b[00m\r\n",
      "│   ├── \u001b[01;34manat\u001b[00m\r\n",
      "│   ├── \u001b[01;34mdwi\u001b[00m\r\n",
      "│   └── \u001b[01;34mfunc\u001b[00m\r\n",
      "├── \u001b[01;34msub-02\u001b[00m\r\n",
      "│   ├── \u001b[01;34manat\u001b[00m\r\n",
      "│   ├── \u001b[01;34mdwi\u001b[00m\r\n",
      "│   └── \u001b[01;34mfunc\u001b[00m\r\n",
      "├── task-fingerfootlips_bold.json\r\n",
      "├── task-fingerfootlips_events.tsv\r\n",
      "└── task-linebisection_bold.json\r\n",
      "\r\n",
      "8 directories, 6 files\r\n"
     ]
    }
   ],
   "source": [
    "# basic directory structure\n",
    "!tree -CL 2 ds000114"
   ]
  },
  {
   "cell_type": "code",
   "execution_count": 8,
   "metadata": {
    "ExecuteTime": {
     "end_time": "2021-02-05T15:44:36.545417Z",
     "start_time": "2021-02-05T15:44:36.428368Z"
    },
    "cell_style": "split",
    "scrolled": true,
    "slideshow": {
     "slide_type": "fragment"
    }
   },
   "outputs": [
    {
     "name": "stdout",
     "output_type": "stream",
     "text": [
      "sub-01_task-fingerfootlips_bold.nii.gz\r\n",
      "sub-01_task-linebisection_bold.nii.gz\r\n",
      "sub-01_task-linebisection_events.tsv\r\n"
     ]
    }
   ],
   "source": [
    "# and inside one func folder\n",
    "subdir = \"ds000114/sub-01/func\"\n",
    "!ls -1 {subdir}\n",
    "# and an events file\n",
    "#import pandas as pd\n",
    "#pd.read_csv(\n",
    "#    f\"{subdir}/sub-01_task-linebisection_events.tsv\",delimiter=\"\\t\")"
   ]
  },
  {
   "cell_type": "markdown",
   "metadata": {
    "slideshow": {
     "slide_type": "slide"
    }
   },
   "source": [
    "# Why BIDS?"
   ]
  },
  {
   "cell_type": "markdown",
   "metadata": {
    "slideshow": {
     "slide_type": "fragment"
    }
   },
   "source": [
    "**Users** get easy access to new analysis tools, e.g.\n",
    "`fmriprep ds000114 outdir sub-01 -w workdir`"
   ]
  },
  {
   "cell_type": "code",
   "execution_count": 9,
   "metadata": {
    "ExecuteTime": {
     "end_time": "2021-02-05T15:44:37.227945Z",
     "start_time": "2021-02-05T15:44:36.547708Z"
    },
    "slideshow": {
     "slide_type": "fragment"
    }
   },
   "outputs": [
    {
     "name": "stderr",
     "output_type": "stream",
     "text": [
      "/home/jc01/.conda/envs/notebook_bids_osd2018/lib/python3.7/site-packages/bids/layout/models.py:152: FutureWarning: The 'extension' entity currently excludes the leading dot ('.'). As of version 0.14.0, it will include the leading dot. To suppress this warning and include the leading dot, use `bids.config.set_option('extension_initial_dot', True)`.\n",
      "  FutureWarning)\n"
     ]
    },
    {
     "name": "stdout",
     "output_type": "stream",
     "text": [
      "['01', '02']\n"
     ]
    }
   ],
   "source": [
    "# Developers:\n",
    "from bids.layout import BIDSLayout\n",
    "layout = BIDSLayout(\"ds000114\")\n",
    "subjects = layout.get_subjects()\n",
    "print(subjects)\n",
    "#layout.get(subject=subjects[0], type=\"T1w\", return_type=\"file\")"
   ]
  },
  {
   "cell_type": "markdown",
   "metadata": {
    "slideshow": {
     "slide_type": "slide"
    }
   },
   "source": [
    "# Dcm2Bids\n",
    "Fully automated conversion from dicom to BIDS-compliant output data.\n",
    "* Converts dicoms to nifti (using dcm2niix), optionally anonymises structurals\n",
    "* Moves niftis and header sidecars to the correct BIDS-format locations\n",
    "* Adds custom fields to header sidecars as needed for BIDS compliance\n",
    "* Initialises all required BIDS project files with sensible defaults"
   ]
  },
  {
   "cell_type": "markdown",
   "metadata": {
    "slideshow": {
     "slide_type": "slide"
    }
   },
   "source": [
    "# Input dicoms"
   ]
  },
  {
   "cell_type": "code",
   "execution_count": 10,
   "metadata": {
    "ExecuteTime": {
     "end_time": "2021-02-05T15:44:37.346938Z",
     "start_time": "2021-02-05T15:44:37.229935Z"
    },
    "slideshow": {
     "slide_type": "fragment"
    }
   },
   "outputs": [
    {
     "name": "stdout",
     "output_type": "stream",
     "text": [
      "\u001b[01;34mbids_test5-20170120/phantom-1/\u001b[00m\r\n",
      "├── \u001b[01;34m001-anat-scout_run+\u001b[00m\r\n",
      "├── \u001b[01;34m002-anat-scout_run+_MPR_sag\u001b[00m\r\n",
      "├── \u001b[01;34m003-anat-scout_run+_MPR_cor\u001b[00m\r\n",
      "├── \u001b[01;34m004-anat-scout_run+_MPR_tra\u001b[00m\r\n",
      "├── \u001b[01;34m005-anat_T1w_acq-MPRAGE_run+\u001b[00m\r\n",
      "├── \u001b[01;34m006-fmap_acq-2.4mm\u001b[00m\r\n",
      "├── \u001b[01;34m007-fmap_acq-2.4mm\u001b[00m\r\n",
      "└── \u001b[01;34m009-func_run+_task-rest_acq-2.4mm64sl1000tr32te600dyn\u001b[00m\r\n",
      "\r\n",
      "8 directories, 0 files\r\n"
     ]
    }
   ],
   "source": [
    "!tree -CL 1 bids_test5-20170120/phantom-1/"
   ]
  },
  {
   "cell_type": "markdown",
   "metadata": {
    "ExecuteTime": {
     "end_time": "2018-11-14T08:38:44.234742Z",
     "start_time": "2018-11-14T08:38:44.232550Z"
    },
    "slideshow": {
     "slide_type": "slide"
    }
   },
   "source": [
    "# Minimal configuration for a first test run\n",
    "dcm2bids uses a configuration JSON file to map from dicom series to BIDS output files"
   ]
  },
  {
   "cell_type": "code",
   "execution_count": 11,
   "metadata": {
    "ExecuteTime": {
     "end_time": "2021-02-05T15:44:37.467908Z",
     "start_time": "2021-02-05T15:44:37.348865Z"
    },
    "slideshow": {
     "slide_type": "fragment"
    }
   },
   "outputs": [
    {
     "name": "stdout",
     "output_type": "stream",
     "text": [
      "{\r\n",
      "    \"descriptions\": []\r\n",
      "}"
     ]
    }
   ],
   "source": [
    "# you could just type it out but we we will extend the dict below\n",
    "config = dict(descriptions=[])\n",
    "writeconfig(config)\n",
    "!cat config.json"
   ]
  },
  {
   "cell_type": "code",
   "execution_count": 12,
   "metadata": {
    "ExecuteTime": {
     "end_time": "2021-02-05T15:44:40.463338Z",
     "start_time": "2021-02-05T15:44:37.470093Z"
    },
    "scrolled": true,
    "slideshow": {
     "slide_type": "slide"
    }
   },
   "outputs": [
    {
     "name": "stdout",
     "output_type": "stream",
     "text": [
      "\r\n",
      "'bids_test5-20170120_anat-scout_run+_20170120084340_series001.json' satisfies no description - skipping\r\n",
      "'bids_test5-20170120_anat-scout_run+_20170120084340_series002_i00001.json' satisfies no description - skipping\r\n",
      "'bids_test5-20170120_anat-scout_run+_20170120084340_series002_i00002.json' satisfies no description - skipping\r\n",
      "'bids_test5-20170120_anat-scout_run+_20170120084340_series002_i00003.json' satisfies no description - skipping\r\n",
      "'bids_test5-20170120_anat-scout_run+_20170120084340_series002_i00004.json' satisfies no description - skipping\r\n",
      "'bids_test5-20170120_anat-scout_run+_20170120084340_series003_i00001.json' satisfies no description - skipping\r\n",
      "'bids_test5-20170120_anat-scout_run+_20170120084340_series003_i00002.json' satisfies no description - skipping\r\n",
      "'bids_test5-20170120_anat-scout_run+_20170120084340_series003_i00003.json' satisfies no description - skipping\r\n",
      "'bids_test5-20170120_anat-scout_run+_20170120084340_series004_i00001.json' satisfies no description - skipping\r\n",
      "'bids_test5-20170120_anat-scout_run+_20170120084340_series004_i00002.json' satisfies no description - skipping\r\n",
      "'bids_test5-20170120_anat-scout_run+_20170120084340_series004_i00003.json' satisfies no description - skipping\r\n",
      "'bids_test5-20170120_anat_T1w_acq-MPRAGE_run+_20170120084340_series005.json' satisfies no description - skipping\r\n",
      "'bids_test5-20170120_fmap_acq-2.4mm_20170120084340_series006_e1.json' satisfies no description - skipping\r\n",
      "'bids_test5-20170120_fmap_acq-2.4mm_20170120084340_series006_e2.json' satisfies no description - skipping\r\n",
      "'bids_test5-20170120_fmap_acq-2.4mm_20170120084340_series007_e2_ph.json' satisfies no description - skipping\r\n",
      "'bids_test5-20170120_func_run+_task-rest_acq-2.4mm64sl1000tr32te600dyn_20170120084340_series009.json' satisfies no description - skipping\r\n",
      "\r\n"
     ]
    }
   ],
   "source": [
    "# First test run of dcm2bids\n",
    "!dcm2bids -d bids_test5-20170120 -p 01 -c config.json -o output"
   ]
  },
  {
   "cell_type": "code",
   "execution_count": 13,
   "metadata": {
    "ExecuteTime": {
     "end_time": "2021-02-05T15:44:40.584769Z",
     "start_time": "2021-02-05T15:44:40.465419Z"
    },
    "scrolled": true,
    "slideshow": {
     "slide_type": "slide"
    }
   },
   "outputs": [
    {
     "name": "stdout",
     "output_type": "stream",
     "text": [
      "\u001b[01;34moutput\u001b[00m\r\n",
      "├── dcm2bids.log\r\n",
      "└── \u001b[01;34mtmp_dcm2bids\u001b[00m\r\n",
      "    └── \u001b[01;34msub-01\u001b[00m\r\n",
      "        ├── bids_test5-20170120_anat-scout_run+_20170120084340_series001.json\r\n",
      "        ├── \u001b[01;31mbids_test5-20170120_anat-scout_run+_20170120084340_series001.nii.gz\u001b[00m\r\n",
      "        ├── bids_test5-20170120_anat-scout_run+_20170120084340_series002_i00001.json\r\n",
      "        ├── \u001b[01;31mbids_test5-20170120_anat-scout_run+_20170120084340_series002_i00001.nii.gz\u001b[00m\r\n",
      "        ├── bids_test5-20170120_anat-scout_run+_20170120084340_series002_i00002.json\r\n",
      "        ├── \u001b[01;31mbids_test5-20170120_anat-scout_run+_20170120084340_series002_i00002.nii.gz\u001b[00m\r\n",
      "        ├── bids_test5-20170120_anat-scout_run+_20170120084340_series002_i00003.json\r\n",
      "        ├── \u001b[01;31mbids_test5-20170120_anat-scout_run+_20170120084340_series002_i00003.nii.gz\u001b[00m\r\n",
      "        ├── bids_test5-20170120_anat-scout_run+_20170120084340_series002_i00004.json\r\n",
      "        ├── \u001b[01;31mbids_test5-20170120_anat-scout_run+_20170120084340_series002_i00004.nii.gz\u001b[00m\r\n",
      "        ├── bids_test5-20170120_anat-scout_run+_20170120084340_series003_i00001.json\r\n",
      "        ├── \u001b[01;31mbids_test5-20170120_anat-scout_run+_20170120084340_series003_i00001.nii.gz\u001b[00m\r\n",
      "        ├── bids_test5-20170120_anat-scout_run+_20170120084340_series003_i00002.json\r\n",
      "        ├── \u001b[01;31mbids_test5-20170120_anat-scout_run+_20170120084340_series003_i00002.nii.gz\u001b[00m\r\n",
      "        ├── bids_test5-20170120_anat-scout_run+_20170120084340_series003_i00003.json\r\n",
      "        ├── \u001b[01;31mbids_test5-20170120_anat-scout_run+_20170120084340_series003_i00003.nii.gz\u001b[00m\r\n",
      "        ├── bids_test5-20170120_anat-scout_run+_20170120084340_series004_i00001.json\r\n",
      "        ├── \u001b[01;31mbids_test5-20170120_anat-scout_run+_20170120084340_series004_i00001.nii.gz\u001b[00m\r\n",
      "        ├── bids_test5-20170120_anat-scout_run+_20170120084340_series004_i00002.json\r\n",
      "        ├── \u001b[01;31mbids_test5-20170120_anat-scout_run+_20170120084340_series004_i00002.nii.gz\u001b[00m\r\n",
      "        ├── bids_test5-20170120_anat-scout_run+_20170120084340_series004_i00003.json\r\n",
      "        ├── \u001b[01;31mbids_test5-20170120_anat-scout_run+_20170120084340_series004_i00003.nii.gz\u001b[00m\r\n",
      "        ├── bids_test5-20170120_anat_T1w_acq-MPRAGE_run+_20170120084340_series005.json\r\n",
      "        ├── \u001b[01;31mbids_test5-20170120_anat_T1w_acq-MPRAGE_run+_20170120084340_series005.nii.gz\u001b[00m\r\n",
      "        ├── bids_test5-20170120_fmap_acq-2.4mm_20170120084340_series006_e1.json\r\n",
      "        ├── \u001b[01;31mbids_test5-20170120_fmap_acq-2.4mm_20170120084340_series006_e1.nii.gz\u001b[00m\r\n",
      "        ├── bids_test5-20170120_fmap_acq-2.4mm_20170120084340_series006_e2.json\r\n",
      "        ├── \u001b[01;31mbids_test5-20170120_fmap_acq-2.4mm_20170120084340_series006_e2.nii.gz\u001b[00m\r\n",
      "        ├── bids_test5-20170120_fmap_acq-2.4mm_20170120084340_series007_e2_ph.json\r\n",
      "        ├── \u001b[01;31mbids_test5-20170120_fmap_acq-2.4mm_20170120084340_series007_e2_ph.nii.gz\u001b[00m\r\n",
      "        ├── bids_test5-20170120_func_run+_task-rest_acq-2.4mm64sl1000tr32te600dyn_20170120084340_series009.json\r\n",
      "        ├── \u001b[01;31mbids_test5-20170120_func_run+_task-rest_acq-2.4mm64sl1000tr32te600dyn_20170120084340_series009.nii.gz\u001b[00m\r\n",
      "        └── dcm2niix.log\r\n",
      "\r\n",
      "2 directories, 34 files\r\n"
     ]
    }
   ],
   "source": [
    "# Unsurprisingly there's not much in the output dir\n",
    "# but NB the tmp_dcm2bids dir!\n",
    "!tree -C output"
   ]
  },
  {
   "cell_type": "code",
   "execution_count": 14,
   "metadata": {
    "ExecuteTime": {
     "end_time": "2021-02-05T15:44:40.706376Z",
     "start_time": "2021-02-05T15:44:40.587930Z"
    },
    "scrolled": true,
    "slideshow": {
     "slide_type": "slide"
    }
   },
   "outputs": [
    {
     "name": "stdout",
     "output_type": "stream",
     "text": [
      "{\r\n",
      "\t\"Modality\": \"MR\",\r\n",
      "\t\"MagneticFieldStrength\": 3,\r\n",
      "\t\"ImagingFrequency\": 123.253,\r\n",
      "\t\"Manufacturer\": \"Siemens\",\r\n",
      "\t\"ManufacturersModelName\": \"Prisma\",\r\n",
      "\t\"InstitutionName\": \"Dartmouth College - PBS\",\r\n",
      "\t\"InstitutionalDepartmentName\": \"Department\",\r\n",
      "\t\"InstitutionAddress\": \"Maynard 3,Hanover,NH,US,03755\",\r\n",
      "\t\"DeviceSerialNumber\": \"66112\",\r\n",
      "\t\"StationName\": \"AWP66112\",\r\n",
      "\t\"BodyPartExamined\": \"BRAIN\",\r\n",
      "\t\"PatientPosition\": \"HFS\",\r\n",
      "\t\"ProcedureStepDescription\": \"Heatherton_Stanger^1004_ontrack\",\r\n",
      "\t\"SoftwareVersions\": \"syngo MR E11\",\r\n",
      "\t\"MRAcquisitionType\": \"3D\",\r\n",
      "\t\"SeriesDescription\": \"anat_T1w_acq-MPRAGE_run+\",\r\n",
      "\t\"ProtocolName\": \"anat_T1w_acq-MPRAGE_run+\",\r\n",
      "\t\"ScanningSequence\": \"GR\\\\IR\",\r\n",
      "\t\"SequenceVariant\": \"SK\\\\SP\\\\MP\",\r\n",
      "\t\"ScanOptions\": \"IR\",\r\n",
      "\t\"SequenceName\": \"*tfl3d1_16ns\",\r\n",
      "\t\"ImageType\": [\"ORIGINAL\", \"PRIMARY\", \"M\", \"ND\", \"NORM\"],\r\n",
      "\t\"SeriesNumber\": 5,\r\n",
      "\t\"AcquisitionTime\": \"08:44:38.722500\",\r\n",
      "\t\"AcquisitionNumber\": 1,\r\n",
      "\t\"ReconstructionMethod\": \"Éü\",\r\n",
      "\t\"SliceThickness\": 0.9,\r\n",
      "\t\"SAR\": 0.0381398,\r\n",
      "\t\"EchoTime\": 0.00232,\r\n",
      "\t\"RepetitionTime\": 2.3,\r\n",
      "\t\"InversionTime\": 0.933,\r\n",
      "\t\"FlipAngle\": 8,\r\n",
      "\t\"PartialFourier\": 1,\r\n",
      "\t\"BaseResolution\": 256,\r\n",
      "\t\"ShimSetting\": [\r\n",
      "\t\t4153,\r\n",
      "\t\t-7690,\r\n",
      "\t\t-7492,\r\n",
      "\t\t214,\r\n",
      "\t\t-60,\r\n",
      "\t\t-87,\r\n",
      "\t\t-47,\r\n",
      "\t\t60\t],\r\n",
      "\t\"TxRefAmp\": 243.108,\r\n",
      "\t\"PhaseResolution\": 1,\r\n",
      "\t\"ReceiveCoilName\": \"Head_32\",\r\n",
      "\t\"ReceiveCoilActiveElements\": \"HEA;HEP\",\r\n",
      "\t\"PulseSequenceDetails\": \"%SiemensSeq%\\\\tfl\",\r\n",
      "\t\"RefLinesPE\": 24,\r\n",
      "\t\"ConsistencyInfo\": \"N4_VE11C_LATEST_20160120\",\r\n",
      "\t\"PercentPhaseFOV\": 100,\r\n",
      "\t\"PercentSampling\": 100,\r\n",
      "\t\"PhaseEncodingSteps\": 255,\r\n",
      "\t\"AcquisitionMatrixPE\": 256,\r\n",
      "\t\"ReconMatrixPE\": 256,\r\n",
      "\t\"ParallelReductionFactorInPlane\": 2,\r\n",
      "\t\"PixelBandwidth\": 200,\r\n",
      "\t\"DwellTime\": 9.8e-06,\r\n",
      "\t\"ImageOrientationPatientDICOM\": [\r\n",
      "\t\t-0.134494,\r\n",
      "\t\t0.83214,\r\n",
      "\t\t0.53801,\r\n",
      "\t\t-0.074468,\r\n",
      "\t\t0.53292,\r\n",
      "\t\t-0.842883\t],\r\n",
      "\t\"InPlanePhaseEncodingDirectionDICOM\": \"ROW\",\r\n",
      "\t\"ConversionSoftware\": \"dcm2niix\",\r\n",
      "\t\"ConversionSoftwareVersion\": \"v1.0.20201224\"\r\n",
      "}\r\n"
     ]
    }
   ],
   "source": [
    "# so the trick is to extend the config json to unambiguously identify our target\n",
    "# acquisitions. Let's start with the t1. What's in the sidecar?\n",
    "!cat output/tmp_dcm2bids/sub-01/*T1w*.json"
   ]
  },
  {
   "cell_type": "code",
   "execution_count": 15,
   "metadata": {
    "ExecuteTime": {
     "end_time": "2021-02-05T15:44:40.829820Z",
     "start_time": "2021-02-05T15:44:40.709371Z"
    },
    "slideshow": {
     "slide_type": "slide"
    }
   },
   "outputs": [
    {
     "name": "stdout",
     "output_type": "stream",
     "text": [
      "{\r\n",
      "    \"descriptions\": [\r\n",
      "        {\r\n",
      "            \"dataType\": \"anat\",\r\n",
      "            \"suffix\": \"T1w\",\r\n",
      "            \"criteria\": {\r\n",
      "                \"in\": {\r\n",
      "                    \"SeriesDescription\": \"anat_T1w_acq-MPRAGE_run\"\r\n",
      "                }\r\n",
      "            }\r\n",
      "        }\r\n",
      "    ]\r\n",
      "}"
     ]
    }
   ],
   "source": [
    "# so our first description might be\n",
    "config[\"descriptions\"] = []\n",
    "config[\"descriptions\"].append({\"dataType\": \"anat\", \n",
    "                               \"suffix\": \"T1w\",\n",
    "                               \"criteria\": {\n",
    "                                   \"in\": {\n",
    "                                       \"SeriesDescription\": \n",
    "                                       \"anat_T1w_acq-MPRAGE_run\"\n",
    "                                   }\n",
    "                                   }\n",
    "                               })\n",
    "# save and print the config again\n",
    "writeconfig(config)\n",
    "!cat config.json"
   ]
  },
  {
   "cell_type": "code",
   "execution_count": 16,
   "metadata": {
    "ExecuteTime": {
     "end_time": "2021-02-05T15:44:43.965325Z",
     "start_time": "2021-02-05T15:44:40.832678Z"
    },
    "scrolled": true,
    "slideshow": {
     "slide_type": "slide"
    }
   },
   "outputs": [
    {
     "name": "stdout",
     "output_type": "stream",
     "text": [
      "\r\n",
      "'bids_test5-20170120_anat-scout_run+_20170120084340_series001.json' satisfies no description - skipping\r\n",
      "'bids_test5-20170120_anat-scout_run+_20170120084340_series002_i00001.json' satisfies no description - skipping\r\n",
      "'bids_test5-20170120_anat-scout_run+_20170120084340_series002_i00002.json' satisfies no description - skipping\r\n",
      "'bids_test5-20170120_anat-scout_run+_20170120084340_series002_i00003.json' satisfies no description - skipping\r\n",
      "'bids_test5-20170120_anat-scout_run+_20170120084340_series002_i00004.json' satisfies no description - skipping\r\n",
      "'bids_test5-20170120_anat-scout_run+_20170120084340_series003_i00001.json' satisfies no description - skipping\r\n",
      "'bids_test5-20170120_anat-scout_run+_20170120084340_series003_i00002.json' satisfies no description - skipping\r\n",
      "'bids_test5-20170120_anat-scout_run+_20170120084340_series003_i00003.json' satisfies no description - skipping\r\n",
      "'bids_test5-20170120_anat-scout_run+_20170120084340_series004_i00001.json' satisfies no description - skipping\r\n",
      "'bids_test5-20170120_anat-scout_run+_20170120084340_series004_i00002.json' satisfies no description - skipping\r\n",
      "'bids_test5-20170120_anat-scout_run+_20170120084340_series004_i00003.json' satisfies no description - skipping\r\n",
      "'bids_test5-20170120_anat_T1w_acq-MPRAGE_run+_20170120084340_series005.json' satisfies one description\r\n",
      "'bids_test5-20170120_fmap_acq-2.4mm_20170120084340_series006_e1.json' satisfies no description - skipping\r\n",
      "'bids_test5-20170120_fmap_acq-2.4mm_20170120084340_series006_e2.json' satisfies no description - skipping\r\n",
      "'bids_test5-20170120_fmap_acq-2.4mm_20170120084340_series007_e2_ph.json' satisfies no description - skipping\r\n",
      "'bids_test5-20170120_func_run+_task-rest_acq-2.4mm64sl1000tr32te600dyn_20170120084340_series009.json' satisfies no description - skipping\r\n",
      "\r\n"
     ]
    }
   ],
   "source": [
    "# take 2 - do we recognise the t1?\n",
    "!dcm2bids -d bids_test5-20170120 -p 01 -c config.json -o output"
   ]
  },
  {
   "cell_type": "code",
   "execution_count": 17,
   "metadata": {
    "ExecuteTime": {
     "end_time": "2021-02-05T15:44:44.087639Z",
     "start_time": "2021-02-05T15:44:43.968471Z"
    },
    "scrolled": false,
    "slideshow": {
     "slide_type": "slide"
    }
   },
   "outputs": [
    {
     "name": "stdout",
     "output_type": "stream",
     "text": [
      "\u001b[01;34moutput\u001b[00m\r\n",
      "├── CHANGES\r\n",
      "├── dataset_description.json\r\n",
      "├── dcm2bids.log\r\n",
      "├── \u001b[01;34mderivatives\u001b[00m\r\n",
      "├── participants.tsv\r\n",
      "├── README\r\n",
      "└── \u001b[01;34msub-01\u001b[00m\r\n",
      "    └── \u001b[01;34manat\u001b[00m\r\n",
      "        ├── sub-01_T1w.json\r\n",
      "        └── \u001b[01;31msub-01_T1w.nii.gz\u001b[00m\r\n",
      "\r\n",
      "3 directories, 7 files\r\n"
     ]
    }
   ],
   "source": [
    "# now the output dir looks more interesting\n",
    "!tree -C -I tmp_dcm2bids output"
   ]
  },
  {
   "cell_type": "code",
   "execution_count": 18,
   "metadata": {
    "ExecuteTime": {
     "end_time": "2021-02-05T15:44:44.205132Z",
     "start_time": "2021-02-05T15:44:44.089931Z"
    },
    "slideshow": {
     "slide_type": "slide"
    }
   },
   "outputs": [
    {
     "name": "stdout",
     "output_type": "stream",
     "text": [
      "{\r\n",
      "    \"Name\": \"\",\r\n",
      "    \"BIDSVersion\": \"1.1.0\",\r\n",
      "    \"License\": \"\",\r\n",
      "    \"Authors\": [\r\n",
      "        \"\"\r\n",
      "    ],\r\n",
      "    \"Acknowledgments\": \"\",\r\n",
      "    \"HowToAcknowledge\": \"\",\r\n",
      "    \"Funding\": \"\",\r\n",
      "    \"ReferencesAndLinks\": [\r\n",
      "        \"\"\r\n",
      "    ],\r\n",
      "    \"DatasetDOI\": \"\"\r\n",
      "}"
     ]
    }
   ],
   "source": [
    "# some of the required BIDS project root files have been initialised, e.g.\n",
    "!cat output/dataset_description.json"
   ]
  },
  {
   "cell_type": "markdown",
   "metadata": {
    "slideshow": {
     "slide_type": "slide"
    }
   },
   "source": [
    "# Scaling up to a complete dcm2bids conversion"
   ]
  },
  {
   "cell_type": "code",
   "execution_count": 19,
   "metadata": {
    "ExecuteTime": {
     "end_time": "2021-02-05T15:44:44.322729Z",
     "start_time": "2021-02-05T15:44:44.207593Z"
    },
    "slideshow": {
     "slide_type": "fragment"
    }
   },
   "outputs": [
    {
     "name": "stdout",
     "output_type": "stream",
     "text": [
      "{\r\n",
      "    \"descriptions\": [\r\n",
      "        {\r\n",
      "            \"dataType\": \"anat\",\r\n",
      "            \"suffix\": \"T1w\",\r\n",
      "            \"criteria\": {\r\n",
      "                \"in\": {\r\n",
      "                    \"SeriesDescription\": \"anat_T1w_acq-MPRAGE_run\"\r\n",
      "                }\r\n",
      "            }\r\n",
      "        },\r\n",
      "        {\r\n",
      "            \"dataType\": \"func\",\r\n",
      "            \"suffix\": \"bold\",\r\n",
      "            \"criteria\": {\r\n",
      "                \"in\": {\r\n",
      "                    \"PulseSequenceDetails\": \"bold\"\r\n",
      "                }\r\n",
      "            },\r\n",
      "            \"customHeader\": {\r\n",
      "                \"TaskName\": \"rest\"\r\n",
      "            }\r\n",
      "        },\r\n",
      "        {\r\n",
      "            \"dataType\": \"fmap\",\r\n",
      "            \"suffix\": \"magnitude1\",\r\n",
      "            \"criteria\": {\r\n",
      "                \"in\": {\r\n",
      "                    \"PulseSequenceDetails\": \"field_mapping\"\r\n",
      "                },\r\n",
      "                \"equal\": {\r\n",
      "                    \"ImageType\": [\r\n",
      "                        \"ORIGINAL\",\r\n",
      "                        \"PRIMARY\",\r\n",
      "                        \"M\",\r\n",
      "                        \"ND\",\r\n",
      "                        \"NORM\"\r\n",
      "                    ],\r\n",
      "                    \"EchoTime\": 0.00492\r\n",
      "                }\r\n",
      "            }\r\n",
      "        },\r\n",
      "        {\r\n",
      "            \"dataType\": \"fmap\",\r\n",
      "            \"suffix\": \"magnitude2\",\r\n",
      "            \"criteria\": {\r\n",
      "                \"in\": {\r\n",
      "                    \"PulseSequenceDetails\": \"field_mapping\"\r\n",
      "                },\r\n",
      "                \"equal\": {\r\n",
      "                    \"ImageType\": [\r\n",
      "                        \"ORIGINAL\",\r\n",
      "                        \"PRIMARY\",\r\n",
      "                        \"M\",\r\n",
      "                        \"ND\",\r\n",
      "                        \"NORM\"\r\n",
      "                    ],\r\n",
      "                    \"EchoNumber\": 2,\r\n",
      "                    \"EchoTime\": 0.00738\r\n",
      "                }\r\n",
      "            }\r\n",
      "        },\r\n",
      "        {\r\n",
      "            \"dataType\": \"fmap\",\r\n",
      "            \"suffix\": \"phasediff\",\r\n",
      "            \"criteria\": {\r\n",
      "                \"in\": {\r\n",
      "                    \"PulseSequenceDetails\": \"field_mapping\"\r\n",
      "                },\r\n",
      "                \"equal\": {\r\n",
      "                    \"ImageType\": [\r\n",
      "                        \"ORIGINAL\",\r\n",
      "                        \"PRIMARY\",\r\n",
      "                        \"P\",\r\n",
      "                        \"ND\"\r\n",
      "                    ]\r\n",
      "                }\r\n",
      "            },\r\n",
      "            \"customHeader\": {\r\n",
      "                \"EchoTime1\": 0.00492,\r\n",
      "                \"EchoTime2\": 0.00738\r\n",
      "            }\r\n",
      "        }\r\n",
      "    ]\r\n",
      "}"
     ]
    }
   ],
   "source": [
    "# here's one I made earlier...\n",
    "!cat config_complete.json"
   ]
  },
  {
   "cell_type": "code",
   "execution_count": 20,
   "metadata": {
    "ExecuteTime": {
     "end_time": "2021-02-05T15:44:47.125088Z",
     "start_time": "2021-02-05T15:44:44.325095Z"
    },
    "scrolled": true,
    "slideshow": {
     "slide_type": "slide"
    }
   },
   "outputs": [
    {
     "name": "stdout",
     "output_type": "stream",
     "text": [
      "\r\n",
      "'bids_test5-20170120_anat-scout_run+_20170120084340_series001.json' satisfies no description - skipping\r\n",
      "'bids_test5-20170120_anat-scout_run+_20170120084340_series002_i00001.json' satisfies no description - skipping\r\n",
      "'bids_test5-20170120_anat-scout_run+_20170120084340_series002_i00002.json' satisfies no description - skipping\r\n",
      "'bids_test5-20170120_anat-scout_run+_20170120084340_series002_i00003.json' satisfies no description - skipping\r\n",
      "'bids_test5-20170120_anat-scout_run+_20170120084340_series002_i00004.json' satisfies no description - skipping\r\n",
      "'bids_test5-20170120_anat-scout_run+_20170120084340_series003_i00001.json' satisfies no description - skipping\r\n",
      "'bids_test5-20170120_anat-scout_run+_20170120084340_series003_i00002.json' satisfies no description - skipping\r\n",
      "'bids_test5-20170120_anat-scout_run+_20170120084340_series003_i00003.json' satisfies no description - skipping\r\n",
      "'bids_test5-20170120_anat-scout_run+_20170120084340_series004_i00001.json' satisfies no description - skipping\r\n",
      "'bids_test5-20170120_anat-scout_run+_20170120084340_series004_i00002.json' satisfies no description - skipping\r\n",
      "'bids_test5-20170120_anat-scout_run+_20170120084340_series004_i00003.json' satisfies no description - skipping\r\n",
      "'bids_test5-20170120_anat_T1w_acq-MPRAGE_run+_20170120084340_series005.json' satisfies one description\r\n",
      "'bids_test5-20170120_fmap_acq-2.4mm_20170120084340_series006_e1.json' satisfies one description\r\n",
      "'bids_test5-20170120_fmap_acq-2.4mm_20170120084340_series006_e2.json' satisfies one description\r\n",
      "'bids_test5-20170120_fmap_acq-2.4mm_20170120084340_series007_e2_ph.json' satisfies no description - skipping\r\n",
      "'bids_test5-20170120_func_run+_task-rest_acq-2.4mm64sl1000tr32te600dyn_20170120084340_series009.json' satisfies one description\r\n",
      "\r\n"
     ]
    }
   ],
   "source": [
    "# take 3 - do we now recognise all the series we want to convert?\n",
    "shutil.rmtree(\"output\", ignore_errors=True)\n",
    "!dcm2bids -d bids_test5-20170120 -p 01 -c config_complete.json -o output"
   ]
  },
  {
   "cell_type": "code",
   "execution_count": 21,
   "metadata": {
    "ExecuteTime": {
     "end_time": "2021-02-05T15:44:47.248838Z",
     "start_time": "2021-02-05T15:44:47.127759Z"
    },
    "cell_style": "center",
    "slideshow": {
     "slide_type": "slide"
    }
   },
   "outputs": [
    {
     "name": "stdout",
     "output_type": "stream",
     "text": [
      "\u001b[01;34moutput\u001b[00m\r\n",
      "├── CHANGES\r\n",
      "├── dataset_description.json\r\n",
      "├── dcm2bids.log\r\n",
      "├── \u001b[01;34mderivatives\u001b[00m\r\n",
      "├── participants.tsv\r\n",
      "├── README\r\n",
      "└── \u001b[01;34msub-01\u001b[00m\r\n",
      "    ├── \u001b[01;34manat\u001b[00m\r\n",
      "    │   ├── sub-01_T1w.json\r\n",
      "    │   └── \u001b[01;31msub-01_T1w.nii.gz\u001b[00m\r\n",
      "    ├── \u001b[01;34mfmap\u001b[00m\r\n",
      "    │   ├── sub-01_magnitude1.json\r\n",
      "    │   ├── \u001b[01;31msub-01_magnitude1.nii.gz\u001b[00m\r\n",
      "    │   ├── sub-01_magnitude2.json\r\n",
      "    │   └── \u001b[01;31msub-01_magnitude2.nii.gz\u001b[00m\r\n",
      "    └── \u001b[01;34mfunc\u001b[00m\r\n",
      "        ├── sub-01_task-rest_bold.json\r\n",
      "        └── \u001b[01;31msub-01_task-rest_bold.nii.gz\u001b[00m\r\n",
      "\r\n",
      "5 directories, 13 files\r\n"
     ]
    }
   ],
   "source": [
    "# the output directory looks fairly complete\n",
    "!tree -C -I tmp_dcm2bids output"
   ]
  },
  {
   "cell_type": "markdown",
   "metadata": {
    "slideshow": {
     "slide_type": "slide"
    }
   },
   "source": [
    "# Checking conversions with bids-validator\n",
    "Also available as a handy web app"
   ]
  },
  {
   "cell_type": "code",
   "execution_count": 22,
   "metadata": {
    "ExecuteTime": {
     "end_time": "2021-02-05T15:44:49.055495Z",
     "start_time": "2021-02-05T15:44:47.255407Z"
    },
    "slideshow": {
     "slide_type": "fragment"
    }
   },
   "outputs": [
    {
     "name": "stdout",
     "output_type": "stream",
     "text": [
      "\t\u001b[31m1: [ERR] Empty files not allowed. (code: 99 - EMPTY_FILE)\u001b[39m\n",
      "\t\t./README\n",
      "\n",
      "\u001b[36m\tPlease visit https://neurostars.org/search?q=EMPTY_FILE for existing conversations about this issue.\u001b[39m\n",
      "\n",
      "\t\u001b[33m1: [WARN] The Authors field of dataset_description.json should contain an array of fields - with one author per field. This was triggered based on the presence of only one author field. Please ignore if all contributors are already properly listed. (code: 102 - TOO_FEW_AUTHORS)\u001b[39m\n",
      "\n",
      "\u001b[36m\tPlease visit https://neurostars.org/search?q=TOO_FEW_AUTHORS for existing conversations about this issue.\u001b[39m\n",
      "\n",
      "\n",
      "        \u001b[34m\u001b[4mSummary:\u001b[24m\u001b[39m                \u001b[34m\u001b[4mAvailable Tasks:\u001b[24m\u001b[39m        \u001b[34m\u001b[4mAvailable Modalities:\u001b[24m\u001b[39m \n",
      "        12 Files, 18.4MB        rest                    T1w                   \n",
      "        1 - Subject                                     magnitude1            \n",
      "        1 - Session                                     magnitude2            \n",
      "                                                        bold                  \n",
      "\n",
      "\n",
      "\u001b[36m\tIf you have any questions, please post on https://neurostars.org/tags/bids.\u001b[39m\n",
      "\n"
     ]
    }
   ],
   "source": [
    "# NB you would still need to add some more info manually in e.g. study_description.json\n",
    "!bids-validator output"
   ]
  },
  {
   "cell_type": "markdown",
   "metadata": {
    "slideshow": {
     "slide_type": "slide"
    }
   },
   "source": [
    "# Resources\n",
    "\n",
    "* [The BIDS starter kit](https://github.com/bids-standard/bids-starter-kit) - wiki with links to various resources\n",
    "* [The official BIDS website](http://bids.neuroimaging.io/) - the official BIDS specification is surprisingly readable\n",
    "* [Michael Notter's Nipype tutorial](https://github.com/miykael/nipype_tutorial) - great interactive tutorials on working with BIDS data in Python\n",
    "* [BIDS-Validator web app](https://bids-standard.github.io/bids-validator/) - convenient way to check BIDS conversions\n",
    "* [dcm2bids (jooh fork)](https://github.com/jooh/Dcm2Bids) - run the conversion code presented here"
   ]
  },
  {
   "cell_type": "markdown",
   "metadata": {
    "slideshow": {
     "slide_type": "slide"
    }
   },
   "source": [
    " "
   ]
  }
 ],
 "metadata": {
  "celltoolbar": "Slideshow",
  "kernelspec": {
   "display_name": "Python 3",
   "language": "python",
   "name": "python3"
  },
  "language_info": {
   "codemirror_mode": {
    "name": "ipython",
    "version": 3
   },
   "file_extension": ".py",
   "mimetype": "text/x-python",
   "name": "python",
   "nbconvert_exporter": "python",
   "pygments_lexer": "ipython3",
   "version": "3.7.3"
  },
  "rise": {
   "controls": false,
   "scroll": true
  },
  "varInspector": {
   "cols": {
    "lenName": 16,
    "lenType": 16,
    "lenVar": 40
   },
   "kernels_config": {
    "python": {
     "delete_cmd_postfix": "",
     "delete_cmd_prefix": "del ",
     "library": "var_list.py",
     "varRefreshCmd": "print(var_dic_list())"
    },
    "r": {
     "delete_cmd_postfix": ") ",
     "delete_cmd_prefix": "rm(",
     "library": "var_list.r",
     "varRefreshCmd": "cat(var_dic_list()) "
    }
   },
   "types_to_exclude": [
    "module",
    "function",
    "builtin_function_or_method",
    "instance",
    "_Feature"
   ],
   "window_display": false
  }
 },
 "nbformat": 4,
 "nbformat_minor": 2
}
